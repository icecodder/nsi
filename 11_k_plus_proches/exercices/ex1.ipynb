{
 "cells": [
  {
   "cell_type": "markdown",
   "metadata": {},
   "source": [
    "# Exercice 1 : application du cours\n",
    "\n",
    "Les modules et les données de l'exercice :"
   ]
  },
  {
   "cell_type": "code",
   "execution_count": null,
   "metadata": {},
   "outputs": [],
   "source": [
    "from math ...\n",
    "from pprint ...\n",
    "import matplotlib.pyplot ...\n",
    "\n",
    "\n",
    "\n",
    "#------------------------------------\n",
    "listeX = [30, 60, 75, 95, 60, 60, 70, 75, 80, 110, 50, 100, 115, 75, 105, 50, 60, 115, 115, 50, 50, 55, 60, 64, 65, 70, 70, 75, 75, 80, 80, 85, 90, 95]\n",
    "listeY = [30, 30, 30, 20, 45, 45, 60, 50, 50, 65, 95, 100, 95, 125, 105, 150, 160, 150, 190, 45, 65, 52, 60, 65, 80, 79, 95, 79, 115, 80, 95, 105, 79, 100]\n",
    "listeFamille = [1, 1, 1, 1, 1, 1, 1, 1, 1, 1, 1, 1, 1, 1, 1, 1, 1, 1, 1, 2, 2, 2, 2, 2, 2, 2, 2, 2, 2, 2, 2, 2, 2, 2]\n",
    "\n",
    "mystere = (65, 45)\n",
    "k = 15"
   ]
  },
  {
   "cell_type": "markdown",
   "metadata": {},
   "source": [
    "1. \tAfficher avec matplotlib les éléments de l’échantillon et la cible mystere.\n"
   ]
  },
  {
   "cell_type": "code",
   "execution_count": null,
   "metadata": {},
   "outputs": [],
   "source": [
    "import matplotlib.pyplot as plt\n",
    "\n",
    "\n",
    "\n",
    "famille1Vie = [ listeX[i]   for i in range(len(listeFamille)) if  listeFamille[i] == 1]\n",
    "famille1Attaque = ...\n",
    "famille2Vie = ...\n",
    "famille2Attaque = ...\n",
    "\n",
    "plt.figure()\n",
    "plt.scatter(famille1Vie, famille1Attaque, color='g', label='Famille 1')\n",
    "plt.scatter(..., ..., color='r', label='Famille 2')\n",
    "plt.scatter(mystere[...], mystere[...], color='b', label='Carte mystère')\n",
    "plt.xlabel(\"Points de vie\")\n",
    "plt.ylabel(\"Points d'attaque\")\n",
    "plt.legend()\n",
    "plt.grid()\n",
    "plt.show()"
   ]
  },
  {
   "cell_type": "markdown",
   "metadata": {},
   "source": [
    "2.\tCompléter le  programme pour afficher dans la console le retour de distances(listeX, listeY, mystere).\n"
   ]
  },
  {
   "cell_type": "code",
   "execution_count": null,
   "metadata": {},
   "outputs": [],
   "source": [
    "# Distance Euclidienne\n",
    "def distanceE1(xA, yA, xB, yB):\n",
    "    return ...\n",
    "\n",
    "\n",
    "def distanceE2(A, B):\n",
    "    return ...\n",
    "\n",
    "\n",
    "\n",
    "\n",
    "def distances(listeX, listeY, mystere):\n",
    "#mystere[0] : abscisse\n",
    "#mystere[1] : ordonnées\n",
    "#Retourne la liste des distances entre mystere et les autres éléments\n",
    "\n",
    "    listeDistances = []\n",
    "    for i in range(len(listeX)):\n",
    "        d = distanceE1(...)\n",
    "        listeDistances.append(d)\n",
    "    return listeDistances"
   ]
  },
  {
   "cell_type": "code",
   "execution_count": null,
   "metadata": {},
   "outputs": [],
   "source": [
    "distances(listeX, listeY, mystere)"
   ]
  },
  {
   "cell_type": "markdown",
   "metadata": {},
   "source": [
    "3.\tCompléter le  programme pour afficher dans la console le retour de :\n",
    "k_plus_proches_voisins(listeX, listeY, mystere, k)."
   ]
  },
  {
   "cell_type": "code",
   "execution_count": null,
   "metadata": {},
   "outputs": [],
   "source": [
    "def choix_premier(element):\n",
    "    return element[0]\n",
    "\n",
    "\n",
    "def k_plus_proches_voisins(listeX, listeY, mystere, k):\n",
    "#Retourne la liste des k plus proches voisins\n",
    "#Retourne une liste de couples \n",
    "\n",
    "    # Calculer les distances\n",
    "    listeDistances = distances(...)\n",
    "    \n",
    "    # Associer distance et famille\n",
    "    listeDistancesFamilles = list(zip(listeDistances, listeFamille)) # Transformer deux listes en une liste de couples\n",
    "     \n",
    "     \n",
    "    # Trier la liste en fonction de la distance\n",
    "    distance_triee = sorted(listeDistancesFamilles, key=choix_premier)\n",
    "    \n",
    "    # Choisir les k premiers\n",
    "    #k_premiers = [ distance_triee[i] for i in range(k)]\n",
    "    k_premiers = ...\n",
    "      \n",
    "    return k_premiers"
   ]
  },
  {
   "cell_type": "code",
   "execution_count": null,
   "metadata": {},
   "outputs": [],
   "source": [
    "k_plus_proches_voisins(listeX, listeY, mystere, k)"
   ]
  },
  {
   "cell_type": "markdown",
   "metadata": {},
   "source": [
    "4.\tCompléter le  programme pour afficher dans la console le retour de :\n",
    "prediction(listeX, listeY, listeFamille, mystere, k)."
   ]
  },
  {
   "cell_type": "code",
   "execution_count": null,
   "metadata": {},
   "outputs": [],
   "source": [
    "def prediction(listeX, listeY, listeFamille, mystere, k):\n",
    "# Détermine la famille de l'objet mystère\n",
    "    k_premiers = k_plus_proches_voisins(listeX, listeY, mystere, k)\n",
    "    \n",
    "    # Calculer les effectifs de chaque famille\n",
    "    famille1 = 0\n",
    "    famille2 = 0\n",
    "    for (..., ...)  in  k_premiers:\n",
    "        if famille == 1:\n",
    "            ...\n",
    "        if famille == 2:\n",
    "            ...\n",
    "    if famille1 > famille2:\n",
    "        return ...\n",
    "    else:\n",
    "        return ..."
   ]
  },
  {
   "cell_type": "code",
   "execution_count": null,
   "metadata": {},
   "outputs": [],
   "source": [
    "prediction(listeX, listeY, listeFamille, mystere, k)"
   ]
  },
  {
   "cell_type": "markdown",
   "metadata": {},
   "source": [
    "5.\tTester l'ensemble avec différentes valeurs pour k."
   ]
  },
  {
   "cell_type": "code",
   "execution_count": null,
   "metadata": {},
   "outputs": [],
   "source": [
    "[ ... for k in [1, 2, 3, 4, 5,  15, 20]]"
   ]
  },
  {
   "cell_type": "markdown",
   "metadata": {},
   "source": [
    "6.\tTester l'ensemble avec différentes valeurs pour mystere(x, y)"
   ]
  },
  {
   "cell_type": "code",
   "execution_count": null,
   "metadata": {},
   "outputs": [],
   "source": [
    "k = 15\n",
    "[ ... for mystere in [(65, 45), (80, 100), (60, 75), (100, 50)]]"
   ]
  },
  {
   "cell_type": "code",
   "execution_count": null,
   "metadata": {},
   "outputs": [],
   "source": []
  },
  {
   "cell_type": "code",
   "execution_count": null,
   "metadata": {},
   "outputs": [],
   "source": []
  }
 ],
 "metadata": {
  "kernelspec": {
   "display_name": "Python 3 (ipykernel)",
   "language": "python",
   "name": "python3"
  },
  "language_info": {
   "codemirror_mode": {
    "name": "ipython",
    "version": 3
   },
   "file_extension": ".py",
   "mimetype": "text/x-python",
   "name": "python",
   "nbconvert_exporter": "python",
   "pygments_lexer": "ipython3",
   "version": "3.8.10"
  }
 },
 "nbformat": 4,
 "nbformat_minor": 4
}
