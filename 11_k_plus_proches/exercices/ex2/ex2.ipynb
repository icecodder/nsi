{
 "cells": [
  {
   "cell_type": "markdown",
   "metadata": {},
   "source": [
    "# Exercice 2 - Le problème des iris\n",
    "## K plus proches voisins - Application directe du cours\n",
    "### Partie A : présentation du problème\n",
    "\n",
    "\n",
    "Afin de travailler sur un exemple, nous allons utiliser un jeu de données relativement connu dans le monde du machine learning : le jeu de données \"iris\".\n",
    "\n",
    "En 1936, Edgar Anderson a collecté des données sur 3 espèces d'iris : \"iris setosa\", \"iris virginica\" et \"iris versicolor\" \n",
    "\n",
    "iris_setosa.jpeg ![](iris_setosa.jpeg)\n",
    "\n",
    "iris_virginica.jpeg ![](iris_virginica.jpeg)\n",
    "\n",
    "iris_versicolorjpeg ![](iris_versicolor.jpeg)\n"
   ]
  },
  {
   "cell_type": "markdown",
   "metadata": {},
   "source": [
    "Travail :\n",
    "1. Ouvrir avec un éditeur de texte et analyser le fichier iris.csv.\n",
    "\n",
    "Noter le nom des descripteurs.\n"
   ]
  },
  {
   "cell_type": "markdown",
   "metadata": {},
   "source": [
    "\n",
    "* petal_length\n",
    "* petal_width\n",
    "* species"
   ]
  },
  {
   "cell_type": "markdown",
   "metadata": {},
   "source": [
    "2. Quel est le nombre d'enregistrements\n"
   ]
  },
  {
   "cell_type": "markdown",
   "metadata": {},
   "source": [
    "* 150"
   ]
  },
  {
   "cell_type": "markdown",
   "metadata": {},
   "source": [
    "### Partie B : lecture des données\n",
    "\n",
    "1. Compléter le code ci-dessous pour lire le fichier iris.csv et afficher les données."
   ]
  },
  {
   "cell_type": "code",
   "execution_count": null,
   "metadata": {},
   "outputs": [],
   "source": [
    "\"\"\"\n",
    "Programme 1 :\n",
    "- Ouvrir un fichier CSV\n",
    "- Créer un dictionnaire\n",
    "\"\"\"\n",
    "import csv\n",
    "from pprint import pprint\n",
    "\n",
    "\n",
    "def csvVersDico(nomFichier):\n",
    "    with open(nomFichier, newline='') as fichierCSV:\n",
    "        #reader = csv.DictReader(fichierCSV, delimiter=',', encoding='utf-8', quoting=csv.QUOTE_NONE)\n",
    "        lecteur = csv.DictReader(..., delimiter=',')\n",
    "        return [dict(ligne) for ...]\n",
    "\n",
    "\n",
    "## Initialisation et appel des fonctions\n",
    "nomFichier = 'iris.csv'\n",
    "tableListeDicos = csvVersDico(nomFichier)\n"
   ]
  },
  {
   "cell_type": "code",
   "execution_count": null,
   "metadata": {},
   "outputs": [],
   "source": [
    "pprint(tableListeDicos[... : ...]) # de  0 à 3"
   ]
  },
  {
   "cell_type": "code",
   "execution_count": null,
   "metadata": {},
   "outputs": [],
   "source": [
    "pprint(tableListeDicos[-5:-1]) # les cinq derniers"
   ]
  },
  {
   "cell_type": "markdown",
   "metadata": {},
   "source": [
    "2. Compléter la fonction ci-dessous pour qu'elle retourne une liste de nombres de type float qui correspondent à une colonne d'un tableau."
   ]
  },
  {
   "cell_type": "code",
   "execution_count": null,
   "metadata": {},
   "outputs": [],
   "source": [
    "def DicoVersListeFloat(listeDicos, descripteur):\n",
    "    \"\"\"\n",
    "    Entrée : listeDicos représente un tableau.\n",
    "             descripteur : nom de la colonne qui nous intéresse\n",
    "    Retour : liste correspondant à une colonne\n",
    "             données de type float\n",
    "    \"\"\"\n",
    "    liste = [... for ...]\n",
    "    return liste"
   ]
  },
  {
   "cell_type": "markdown",
   "metadata": {},
   "source": [
    "3. Tester la fonction pour construire les listes des longueurs et des largeurs."
   ]
  },
  {
   "cell_type": "code",
   "execution_count": null,
   "metadata": {},
   "outputs": [],
   "source": [
    "listeLongueur = DicoVersListeFloat(tableListeDicos, 'petal_length')\n",
    "listeLargeur = DicoVersListeFloat(..., '...')"
   ]
  },
  {
   "cell_type": "markdown",
   "metadata": {},
   "source": [
    "Afficher les longueurs"
   ]
  },
  {
   "cell_type": "code",
   "execution_count": null,
   "metadata": {},
   "outputs": [],
   "source": [
    "print(listeLongueur)\n"
   ]
  },
  {
   "cell_type": "markdown",
   "metadata": {},
   "source": [
    "Afficher les largeurs"
   ]
  },
  {
   "cell_type": "code",
   "execution_count": null,
   "metadata": {},
   "outputs": [],
   "source": [
    "print(listeLargeur)"
   ]
  },
  {
   "cell_type": "markdown",
   "metadata": {},
   "source": [
    "4. Compléter la fonction ci-dessous pour qu'elle retourne une liste de nombres  de type int qui correspondent à une colonne d'un tableau."
   ]
  },
  {
   "cell_type": "code",
   "execution_count": null,
   "metadata": {},
   "outputs": [],
   "source": [
    "def DicoVersListeInt(listeDicos, descripteur):\n",
    "    \"\"\"\n",
    "    Entrée : listeDicos représente un tableau.\n",
    "             descripteur : nom de la colonne qui nous intéresse\n",
    "    Retour : liste correspondant à une colonne\n",
    "             données de type int\n",
    "    \"\"\"\n",
    "    liste = [... for ...]\n",
    "    return liste"
   ]
  },
  {
   "cell_type": "markdown",
   "metadata": {},
   "source": [
    "5. Tester la fonction pour construire la liste des espèces."
   ]
  },
  {
   "cell_type": "code",
   "execution_count": null,
   "metadata": {},
   "outputs": [],
   "source": [
    "listeEspece = DicoVersListeInt(..., '...')"
   ]
  },
  {
   "cell_type": "code",
   "execution_count": null,
   "metadata": {},
   "outputs": [],
   "source": [
    "print(listeEspece)"
   ]
  },
  {
   "cell_type": "markdown",
   "metadata": {},
   "source": [
    "# Partie C : prédiction\n",
    "\n",
    "\n",
    "1. Écrire une fonction qui calcule la distance Euclidienne entre deux points.\n"
   ]
  },
  {
   "cell_type": "code",
   "execution_count": null,
   "metadata": {},
   "outputs": [],
   "source": [
    "# Distance Euclidienne\n",
    "def distanceE1(xA, yA, xB, yB):\n",
    "    return ..."
   ]
  },
  {
   "cell_type": "code",
   "execution_count": null,
   "metadata": {},
   "outputs": [],
   "source": [
    "# test\n",
    "from math import sqrt\n",
    "print(distanceE1(0, 2, 3, 5)) # A(0, 2) et B(3, 5)"
   ]
  },
  {
   "cell_type": "markdown",
   "metadata": {},
   "source": [
    "2. Écrire une fonctions distances qui calcule les distances entre mystere et les éléments des listes listeLongueur et listeLargeur."
   ]
  },
  {
   "cell_type": "code",
   "execution_count": null,
   "metadata": {},
   "outputs": [],
   "source": [
    "def distances(listeX, listeY, mystere):\n",
    "#mystere[0] : abscisse\n",
    "#mystere[1] : ordonnées\n",
    "#Retourne la liste des distances entre mystere et les autres éléments\n",
    "\n",
    "    listeDistances = []\n",
    "    for i in range(len(listeX)):\n",
    "        d = distanceE1(...)\n",
    "        listeDistances.append(...)\n",
    "    return listeDistances"
   ]
  },
  {
   "cell_type": "code",
   "execution_count": null,
   "metadata": {},
   "outputs": [],
   "source": [
    "# Test\n",
    "longueur=2.5\n",
    "largeur=0.75\n",
    "mystere = (longueur, largeur)\n",
    "print(distances(listeLongueur, listeLargeur, mystere))"
   ]
  },
  {
   "cell_type": "markdown",
   "metadata": {},
   "source": [
    "3. Écrire une fonction qui détermine les k plus proches voisins."
   ]
  },
  {
   "cell_type": "code",
   "execution_count": null,
   "metadata": {},
   "outputs": [],
   "source": [
    "def choix_premier(element):\n",
    "    return element[0]\n",
    "\n",
    "\n",
    "\n",
    "def k_plus_proches_voisins(listeX, listeY, listeFamille, mystere, k):\n",
    "    \"\"\"\n",
    "    Retourne la liste des k plus proches voisins\n",
    "    Retourne une liste de couples \n",
    "    \"\"\"\n",
    "\n",
    "    # Calculer les distances\n",
    "    listeDistances = ...\n",
    "    \n",
    "    # Associer distance et famille\n",
    "    listeDistancesFamilles = ... # Transformer deux listes en une liste de couples\n",
    "     \n",
    "     \n",
    "    # Trier la liste en fonction de la distance\n",
    "    distance_triee = ...\n",
    "    \n",
    "    # Choisir les k premiers\n",
    "    k_premiers = ...\n",
    "      \n",
    "    return k_premiers"
   ]
  },
  {
   "cell_type": "code",
   "execution_count": null,
   "metadata": {},
   "outputs": [],
   "source": [
    "# Test\n",
    "pprint(k_plus_proches_voisins(listeLongueur, listeLargeur, listeEspece, mystere, 5))"
   ]
  },
  {
   "cell_type": "markdown",
   "metadata": {},
   "source": [
    "4. Écrire une fonction qui retourne la prédiction de la famille à laquelle appartient l'iris mystère."
   ]
  },
  {
   "cell_type": "code",
   "execution_count": null,
   "metadata": {},
   "outputs": [],
   "source": [
    "def prediction(listeLongueur, listeLargeur, listeEspece, mystere, k):\n",
    "    \"\"\"\n",
    "    \"\"\"\n",
    "    # Détermine la famille de l'objet mystère\n",
    "    k_premiers = k_plus_proches_voisins(listeLongueur, listeLargeur, listeEspece, mystere, k)\n",
    "    \n",
    "    # Calculer les effectifs de chaque famille\n",
    "    listeFamilles = [0, 1 , 2]\n",
    "    #                0  1  2\n",
    "    effectifFamilles = [0, 0, 0]     # Initialiser les effectifs à 0 \n",
    "    #                   0  1  2\n",
    "    \n",
    "    for (distance, famille)  in  k_premiers:\n",
    "        index =  ...      # Recherche l'index de famille actuelle\n",
    "        ...               # Incrémenter l'effectif de la famille actuelle\n",
    "    \n",
    "    # Déterminer la famille avec l'effectif le plus élevé\n",
    "    effectifMax= max(...)\n",
    "    index =  ...\n",
    "    return listeFamilles[index]   # Famille avec l'effectif le plus élevé"
   ]
  },
  {
   "cell_type": "code",
   "execution_count": null,
   "metadata": {},
   "outputs": [],
   "source": [
    "# test\n",
    "k = 5\n",
    "print(prediction(listeLongueur, listeLargeur, listeEspece, mystere, k))"
   ]
  },
  {
   "cell_type": "markdown",
   "metadata": {},
   "source": [
    "5. Tester les fonctions."
   ]
  },
  {
   "cell_type": "code",
   "execution_count": null,
   "metadata": {},
   "outputs": [],
   "source": [
    "## ---- Initialisations et appel des fonctions ----\n",
    "                  \n",
    "# Analyse du fichier\n",
    "nomFichier = 'iris.csv'\n",
    "tableListeDicos = csvVersDico(nomFichier)\n",
    "listeLongueur = DicoVersListeFloat(tableListeDicos, '...')\n",
    "listeLargeur = DicoVersListeFloat(tableListeDicos, '...')\n",
    "listeEspece = DicoVersListeInt(tableListeDicos, '...')\n",
    "\n",
    "\n",
    "# Afficher les listes à partir du chier iris.csv\n",
    "#print(listeLongueur)\n",
    "#print(listeLargeur)\n",
    "#print(listeEspece)\n",
    "\n",
    "\n",
    "# Iris mystère\n",
    "longueur=2.5\n",
    "largeur=0.75\n",
    "mystere = (..., ...)\n",
    "\n",
    "\n",
    "# Paramétrage de l'algorithme des k plus proches voisins              \n",
    "k = 1     # On peut tester avec 1, 3, 5 ou 10\n",
    "\n",
    "# Appel des fonctions\n",
    "predictionNum = prediction(listeLongueur, listeLargeur, listeEspece, mystere, k)"
   ]
  },
  {
   "cell_type": "code",
   "execution_count": null,
   "metadata": {},
   "outputs": [],
   "source": [
    "print(predictionNum)"
   ]
  },
  {
   "cell_type": "markdown",
   "metadata": {},
   "source": [
    "6. Écrire une fonction pour déterminer le nom de la famille à partir de son numéro.\n"
   ]
  },
  {
   "cell_type": "code",
   "execution_count": null,
   "metadata": {},
   "outputs": [],
   "source": [
    "def predirFamille(predictionNum, nomsFamilles):\n",
    "    return ...\n"
   ]
  },
  {
   "cell_type": "code",
   "execution_count": null,
   "metadata": {},
   "outputs": [],
   "source": [
    "# Association notation fichier et noms des iris\n",
    "nomsFamilles = {'0' : 'iris setosa',\n",
    "                '1' : 'iris versicolor', \n",
    "                '2' : 'iris virginica'\n",
    "                }"
   ]
  },
  {
   "cell_type": "code",
   "execution_count": null,
   "metadata": {},
   "outputs": [],
   "source": [
    "print(predictionNum, predirFamille(predictionNum, nomsFamilles))"
   ]
  },
  {
   "cell_type": "markdown",
   "metadata": {},
   "source": [
    "# Partie D : afficher un graphique\n"
   ]
  },
  {
   "cell_type": "code",
   "execution_count": null,
   "metadata": {},
   "outputs": [],
   "source": [
    "# Préparer les listes pour le graphique\n",
    "setosaLongueur = [ listeLongueur[i]   for i in range(len(listeEspece)) if  listeEspece[i] == 0]\n",
    "setosaLargeur = [ ...]\n",
    "versicolorLongueur = [ ...]\n",
    "versicolorLargeur = [ ...]\n",
    "virginicaLongueur = [ ...]\n",
    "virginicaLargeur = [ ...]"
   ]
  },
  {
   "cell_type": "code",
   "execution_count": null,
   "metadata": {},
   "outputs": [],
   "source": [
    "print(versicolorLongueur)\n",
    "print(versicolorLargeur)"
   ]
  },
  {
   "cell_type": "code",
   "execution_count": null,
   "metadata": {},
   "outputs": [],
   "source": [
    "import matplotlib.pyplot as plt\n",
    "plt.figure()\n",
    "plt.scatter(setosaLongueur, setosaLargeur, color='g', label='Setosa')\n",
    "plt.scatter(..., ..., color='r', label='Versicolor')\n",
    "plt.scatter(..., ..., color='b', label='Virginica')\n",
    "plt.scatter(mystere[0], ..., color='k', label='Iris mystère')\n",
    "plt.xlabel(\"...\")\n",
    "plt.ylabel(\"...\")\n",
    "plt.legend()\n",
    "plt.grid()\n",
    "plt.show()"
   ]
  },
  {
   "cell_type": "code",
   "execution_count": null,
   "metadata": {},
   "outputs": [],
   "source": []
  }
 ],
 "metadata": {
  "kernelspec": {
   "display_name": "Python 3",
   "language": "python",
   "name": "python3"
  },
  "language_info": {
   "codemirror_mode": {
    "name": "ipython",
    "version": 3
   },
   "file_extension": ".py",
   "mimetype": "text/x-python",
   "name": "python",
   "nbconvert_exporter": "python",
   "pygments_lexer": "ipython3",
   "version": "3.7.6"
  }
 },
 "nbformat": 4,
 "nbformat_minor": 4
}
