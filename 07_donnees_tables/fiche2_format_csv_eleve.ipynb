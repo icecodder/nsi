{
 "cells": [
  {
   "cell_type": "markdown",
   "metadata": {},
   "source": [
    "# Cours - Traitement des données en table\n",
    "# Fiche 2 - Le format CSV, traitement avec Python\n",
    "\n",
    "**Table des matières**\n",
    "\n",
    "1. Introduction\n",
    "2. Représentation en Python\n",
    "3. Importer un fichier CSV en python\n",
    "4. Exporter vers un fichier CSV\n",
    "\n",
    "\n",
    "\n",
    "\n",
    "## 1. Introduction\n",
    "Nous allons nous intéresser aux données stockées au format CSV (Comma Separated Values) et dont le traitement sera réalisé par un programme en python.\n",
    "\n",
    "\n",
    "Le format CSV n'est pas standardisé mais les données sont organisées de la manière suivante :\n",
    "\n",
    "- une ligne avec les descripteurs ;\n",
    "- les colonnes sont généralement séparées par :\n",
    "    - une virgule (cas le plus courant, notation anglaise) ;\n",
    "    - un point-virgule (pour libérer la virgule de séparation la partie décimale en français) ;\n",
    "    - tout autre caractère selon le besoin (tabulation, espace, | (pipe) ...).\n",
    "- il n'y a pas d'espace entre les caractères de séparation ;\n",
    "- les informations de type texte peuvent être encadrées par des guillemets (pour faire la différence avec les données de type nombre lors de l'importation dans un tableur).\n",
    "\n"
   ]
  },
  {
   "cell_type": "markdown",
   "metadata": {},
   "source": [
    "**Exemple :**\n",
    "\n",
    "Table\n",
    "    \n",
    "|nom    | prenom      | date_naissance | age | taille|\n",
    "|:-:    |:-:          |:-:             |:-:  | :-:   |\n",
    "|Durand | jean-Pierre | 23/05/1985     | 35  | 1.85  |\n",
    "|Dupont | Christophe  | 15/12/1967     | 53  | 1.7   |\n",
    "|Terta  | Henry       | 12/06/1978     | 42  | 1.67  |  \n",
    "    \n",
    "    \n",
    "Fichier CSV 1\n",
    "\n",
    "    nom;prenom;date_naissance;age;taille\n",
    "    Durand;Jean-Pierre;23/05/1985;35;1.85\n",
    "    Dupont;Christophe;15/12/1967;53;1.7\n",
    "    Terta;Henry;12/06/1978;42;1.67\n",
    "    \n",
    "Fichier CSV 2\n",
    "    \n",
    "    \"nom\";\"prenom\";\"date_naissance\";\"age\";\"taille\"\n",
    "    \"Durand\";\"Jean-Pierre\";\"23/05/1985\";35;1.85\n",
    "    \"Dupont\";\"Christophe\";\"15/12/1967\";53;1.7\n",
    "    \"Terta\";\"Henry\";\"12/06/1978\";42;1.67\n",
    "\n",
    "    \n",
    "Fichier CSV 3\n",
    "       \n",
    "    \"nom\";\"prenom\";\"date_naissance\";\"age\";\"taille\"\n",
    "    \"Durand\";\"Jean-Pierre\";\"23/05/1985\";35;1,85\n",
    "    \"Dupont\";\"Christophe\";\"15/12/1967\";53;1,7\n",
    "    \"Terta\";\"Henry\";\"12/06/1978\";42;1,67\n",
    "    \n",
    "Fichier CSV 4\n",
    "\n",
    "    nom;prenom;date_naissance;age;taille\n",
    "    Durand;Jean-Pierre;23/05/1985;35;1,85\n",
    "    Dupont;Christophe;15/12/1967;53;1,7\n",
    "    Terta;Henry;12/06/1978;42;1,67\n",
    "    \n",
    "Fichier CSV 5\n",
    "    \n",
    "    nom,prenom,date_naissance,age,taille\n",
    "    Durand,Jean-Pierre,23/05/1985,35,1.85\n",
    "    Dupont,Christophe,15/12/1967,53,1.7\n",
    "    Terta,Henry,12/06/1978,42,1.67   \n",
    "    \n",
    "    "
   ]
  },
  {
   "cell_type": "markdown",
   "metadata": {},
   "source": [
    "## 2. Représentation en python\n",
    "\n",
    "On peut représenter en python les fichiers CSV de différentes manières.\n",
    "\n",
    "Une solution est la suivante :"
   ]
  },
  {
   "cell_type": "code",
   "execution_count": 1,
   "metadata": {},
   "outputs": [],
   "source": [
    "personnes = [{'nom': 'Durand', 'prenom': 'Jean-Pierre', 'date_naissance': '23/05/1985', 'age': '35', 'taille': '1.85'}, \n",
    "         {'nom': 'Dupont', 'prenom': 'Christophe', 'date_naissance': '15/12/1967', 'age': '53', 'taille': '1.7'}, \n",
    "         {'nom': 'Terta', 'prenom': 'Henry', 'date_naissance': '12/06/1978', 'age': '42', 'taille': '1.67'}]"
   ]
  },
  {
   "cell_type": "markdown",
   "metadata": {},
   "source": [
    "La variable personnes est une liste de dictionnaires.\n",
    "\n",
    "On peut trouver d'autres organisations comme par exemple la bibliothèque Pandas qui utilise une structure du type un dictionnaire de listes).\n",
    "\n",
    "## 3. Importer un fichier CSV en python\n",
    "\n",
    "\n",
    "Pour importer les données des fichiers CSV, nous utiliserons le module csv."
   ]
  },
  {
   "cell_type": "code",
   "execution_count": 2,
   "metadata": {},
   "outputs": [],
   "source": [
    "import csv"
   ]
  },
  {
   "cell_type": "markdown",
   "metadata": {},
   "source": [
    "Le module pprint est pratique pour afficher des structures de données imbriquées."
   ]
  },
  {
   "cell_type": "code",
   "execution_count": 3,
   "metadata": {},
   "outputs": [],
   "source": [
    "from pprint import pprint"
   ]
  },
  {
   "cell_type": "markdown",
   "metadata": {},
   "source": [
    "**Importer un fichier : solution 1** "
   ]
  },
  {
   "cell_type": "code",
   "execution_count": 4,
   "metadata": {},
   "outputs": [
    {
     "ename": "FileNotFoundError",
     "evalue": "[Errno 2] No such file or directory: 'names.csv'",
     "output_type": "error",
     "traceback": [
      "\u001b[0;31m---------------------------------------------------------------------------\u001b[0m",
      "\u001b[0;31mFileNotFoundError\u001b[0m                         Traceback (most recent call last)",
      "\u001b[1;32m/media/max/C09AC51F9AC512B8/nsi/07_donnees_tables/fiche2_format_csv_eleve.ipynb Cell 10'\u001b[0m in \u001b[0;36m<cell line: 9>\u001b[0;34m()\u001b[0m\n\u001b[1;32m      <a href='vscode-notebook-cell:/media/max/C09AC51F9AC512B8/nsi/07_donnees_tables/fiche2_format_csv_eleve.ipynb#ch0000009?line=3'>4</a>\u001b[0m         \u001b[39mfor\u001b[39;00m ligne \u001b[39min\u001b[39;00m lecteur:\n\u001b[1;32m      <a href='vscode-notebook-cell:/media/max/C09AC51F9AC512B8/nsi/07_donnees_tables/fiche2_format_csv_eleve.ipynb#ch0000009?line=4'>5</a>\u001b[0m             pprint(ligne)\n\u001b[0;32m----> <a href='vscode-notebook-cell:/media/max/C09AC51F9AC512B8/nsi/07_donnees_tables/fiche2_format_csv_eleve.ipynb#ch0000009?line=8'>9</a>\u001b[0m lireCSV1()\n",
      "\u001b[1;32m/media/max/C09AC51F9AC512B8/nsi/07_donnees_tables/fiche2_format_csv_eleve.ipynb Cell 10'\u001b[0m in \u001b[0;36mlireCSV1\u001b[0;34m()\u001b[0m\n\u001b[1;32m      <a href='vscode-notebook-cell:/media/max/C09AC51F9AC512B8/nsi/07_donnees_tables/fiche2_format_csv_eleve.ipynb#ch0000009?line=0'>1</a>\u001b[0m \u001b[39mdef\u001b[39;00m \u001b[39mlireCSV1\u001b[39m():\n\u001b[0;32m----> <a href='vscode-notebook-cell:/media/max/C09AC51F9AC512B8/nsi/07_donnees_tables/fiche2_format_csv_eleve.ipynb#ch0000009?line=1'>2</a>\u001b[0m     \u001b[39mwith\u001b[39;00m \u001b[39mopen\u001b[39;49m(\u001b[39m'\u001b[39;49m\u001b[39mnames.csv\u001b[39;49m\u001b[39m'\u001b[39;49m, newline\u001b[39m=\u001b[39;49m\u001b[39m'\u001b[39;49m\u001b[39m'\u001b[39;49m) \u001b[39mas\u001b[39;00m fichierCSV:\n\u001b[1;32m      <a href='vscode-notebook-cell:/media/max/C09AC51F9AC512B8/nsi/07_donnees_tables/fiche2_format_csv_eleve.ipynb#ch0000009?line=2'>3</a>\u001b[0m         lecteur \u001b[39m=\u001b[39m csv\u001b[39m.\u001b[39mDictReader(fichierCSV)\n\u001b[1;32m      <a href='vscode-notebook-cell:/media/max/C09AC51F9AC512B8/nsi/07_donnees_tables/fiche2_format_csv_eleve.ipynb#ch0000009?line=3'>4</a>\u001b[0m         \u001b[39mfor\u001b[39;00m ligne \u001b[39min\u001b[39;00m lecteur:\n",
      "\u001b[0;31mFileNotFoundError\u001b[0m: [Errno 2] No such file or directory: 'names.csv'"
     ]
    }
   ],
   "source": [
    "def lireCSV1():\n",
    "    with open('names.csv', newline='') as fichierCSV:\n",
    "        lecteur = csv.DictReader(fichierCSV)\n",
    "        for ligne in lecteur:\n",
    "            pprint(ligne)\n",
    "\n",
    "\n",
    "\n",
    "lireCSV1()"
   ]
  },
  {
   "cell_type": "markdown",
   "metadata": {},
   "source": [
    "**Remarque :**\n",
    "\n",
    "- fichierCSV : variable qui pointe sur le fichier sur le disque dur de l'ordinateur.\n",
    "- lecteur    : variable qui pointe sur les données en mémoire.\n",
    "- ligne      : partie des données qui correspond à un enregistrement(p-uplets) "
   ]
  },
  {
   "cell_type": "markdown",
   "metadata": {},
   "source": [
    "**Importer un fichier : solution 2** "
   ]
  },
  {
   "cell_type": "code",
   "execution_count": 4,
   "metadata": {},
   "outputs": [
    {
     "data": {
      "text/plain": [
       "[{'nom': 'Durand',\n",
       "  'prenom': 'Jean-Pierre',\n",
       "  'date_naissance': '23/05/1985',\n",
       "  'age': '35',\n",
       "  'taille': '1.85'},\n",
       " {'nom': 'Dupont',\n",
       "  'prenom': 'Christophe',\n",
       "  'date_naissance': '15/12/1967',\n",
       "  'age': '53',\n",
       "  'taille': '1.7'},\n",
       " {'nom': 'Terta',\n",
       "  'prenom': 'Henry',\n",
       "  'date_naissance': '12/06/1978',\n",
       "  'age': '42',\n",
       "  'taille': '1.67'}]"
      ]
     },
     "execution_count": 4,
     "metadata": {},
     "output_type": "execute_result"
    }
   ],
   "source": [
    "def lireCSV2():\n",
    "    with open('names.csv', newline='') as fichierCSV:\n",
    "        lecteur = csv.DictReader(fichierCSV)\n",
    "        return [dict(ligne) for ligne in lecteur]\n",
    "\n",
    "lireCSV2()"
   ]
  },
  {
   "cell_type": "markdown",
   "metadata": {},
   "source": [
    "La liste par compréhension permet de renvoyer une liste de dictionnaires comme cela a été vu dans la fiche1_table_python.ipynb.\n",
    "\n",
    "Lors de l'importation, on peut ajouter des paramètres comme :\n",
    "\n",
    "- le délimiteur\n",
    "- l'encodage\n",
    "- encadrement ou pas du texte par des guillemets\n",
    "\n",
    "\n",
    "\n",
    "**Exemple :**\n",
    "\n",
    "Code qui permet de lire le fichier passwd sous linux.\n"
   ]
  },
  {
   "cell_type": "code",
   "execution_count": null,
   "metadata": {},
   "outputs": [],
   "source": [
    "import csv\n",
    "def lectureOptions():\n",
    "    with open('passwd', newline='') as f:\n",
    "        reader = csv.reader(f, delimiter=':', encoding='utf-8', quoting=csv.QUOTE_NONE)\n",
    "        for row in reader:\n",
    "            print(row)"
   ]
  },
  {
   "cell_type": "markdown",
   "metadata": {},
   "source": [
    "**Exercice :**\n",
    "\n",
    "Écrire une fonction qui :\n",
    "    \n",
    "- importe le fichier villes_virgule.csv\n",
    "- affiche les 5 premiers enregistrements\n",
    "- compte le nombre d'enregistrements"
   ]
  },
  {
   "cell_type": "code",
   "execution_count": null,
   "metadata": {},
   "outputs": [],
   "source": []
  },
  {
   "cell_type": "markdown",
   "metadata": {},
   "source": [
    "## 4. Exporter vers un fichier CSV\n",
    "\n",
    "Lors de l'export on donne l'ordre des colonnes dans une liste.\n",
    "\n",
    "\n",
    "**Exemple 1:**"
   ]
  },
  {
   "cell_type": "code",
   "execution_count": null,
   "metadata": {},
   "outputs": [],
   "source": [
    "def exportCSV1():\n",
    "    with open('sortie.csv', 'w', newline='') as csvfile:\n",
    "        fieldnames = ['nom', 'prenom']\n",
    "        writer = csv.DictWriter(csvfile, fieldnames=fieldnames)\n",
    "\n",
    "        writer.writeheader()\n",
    "        writer.writerow({'prenom': 'Lucie', 'nom': 'Lafitte'})\n",
    "        writer.writerow({'prenom': 'Lucien', 'nom': 'Lafargue'})\n",
    "        writer.writer\n",
    "    return None\n",
    "exportCSV1()"
   ]
  },
  {
   "cell_type": "markdown",
   "metadata": {},
   "source": [
    "Résultat, contenu CSV :\n",
    "    \n",
    "    nom,prenom\n",
    "    Lafitte,Lucie\n",
    "    Lafargue,Lucien\n",
    "    \n",
    "**Exemple 2:**\n",
    "    "
   ]
  },
  {
   "cell_type": "code",
   "execution_count": null,
   "metadata": {},
   "outputs": [],
   "source": [
    "def exportCSV2(table, nomFichier, ordre):\n",
    "    with open(nomFichier , 'w', newline='') as fichierCSV:\n",
    "        dico = csv.DictWriter(fichierCSV, fieldnames=ordre)\n",
    "        #table = eval(nom)\n",
    "        dico.writeheader()   # 1ère ligne, descripteurs (attributs)\n",
    "        for ligne in table:\n",
    "            dico.writerow(ligne)\n",
    "    return None\n",
    "\n",
    "# ---- test de la fonction ----\n",
    "table2 = [{'Nom': 'Paul', 'Anglais': 10, 'NSI': 15, 'Math': 10},\n",
    "          {'Nom': 'Marie', 'Anglais': 15, 'NSI': 12, 'Math': 18},\n",
    "          {'Nom': 'Alice', 'Anglais': 11, 'NSI': 15, 'Math': 18}]\n",
    "\n",
    "ordre = ['Nom', 'Anglais', 'NSI', 'Math']\n",
    "\n",
    "exportCSV2(table2, 'sortie2.csv', ordre)"
   ]
  },
  {
   "cell_type": "markdown",
   "metadata": {},
   "source": [
    "Résultat, contenu CSV :\n",
    "\n",
    "    Nom,Anglais,NSI,Math\n",
    "    Paul,10,15,10\n",
    "    Marie,15,12,18\n",
    "    Alice,11,15,18\n",
    "    "
   ]
  },
  {
   "cell_type": "markdown",
   "metadata": {},
   "source": [
    "**Exercice**\n",
    "\n",
    "Modifier le programme précédent pour obtenir l'affichage suivant :\n",
    "\n",
    "    NSI,Anglais,Nom,Math\n",
    "    15,10,Paul,10\n",
    "    12,15,Marie,18\n",
    "    15,11,Alice,18"
   ]
  },
  {
   "cell_type": "code",
   "execution_count": null,
   "metadata": {},
   "outputs": [],
   "source": []
  }
 ],
 "metadata": {
  "kernelspec": {
   "display_name": "Python 3",
   "language": "python",
   "name": "python3"
  },
  "language_info": {
   "codemirror_mode": {
    "name": "ipython",
    "version": 3
   },
   "file_extension": ".py",
   "mimetype": "text/x-python",
   "name": "python",
   "nbconvert_exporter": "python",
   "pygments_lexer": "ipython3",
   "version": "3.8.5"
  }
 },
 "nbformat": 4,
 "nbformat_minor": 4
}
