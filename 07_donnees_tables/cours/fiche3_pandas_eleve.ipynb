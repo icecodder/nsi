{
 "cells": [
  {
   "cell_type": "markdown",
   "metadata": {},
   "source": [
    "# Cours - Traitement des données en table\n",
    "# Fiche 3 - Manipulation de tables avec la bibliothèque Pandas\n",
    "\n",
    "\n",
    "## 1. Lecture de fichiers\n",
    "\n",
    "De façon classique en Python, nous allons commencer par charger le module."
   ]
  },
  {
   "cell_type": "code",
   "execution_count": 1,
   "metadata": {},
   "outputs": [],
   "source": [
    " import pandas\n"
   ]
  },
  {
   "cell_type": "markdown",
   "metadata": {},
   "source": [
    "La lecture d’un fichier csv se fait alors aisément grâce à la commande:"
   ]
  },
  {
   "cell_type": "code",
   "execution_count": 2,
   "metadata": {},
   "outputs": [],
   "source": [
    "villes = pandas.read_csv(\"villes_virgule.csv\", delimiter=\",\", keep_default_na=False)\n"
   ]
  },
  {
   "cell_type": "markdown",
   "metadata": {},
   "source": [
    "**Remarques :**\n",
    "\n",
    "* \",\" : délimiteur du fichier CSV\n",
    "* keep_default_na=True : si une cellule contient la valeur NA, pandas la convertit en NaN (Not a Nombre)\n",
    "* keep_default_na=False : si une cellule contient la valeur NA, il n'y a pas de conversion, NA est conservé\n",
    "\n",
    "\n",
    "\n",
    "Affichages de test"
   ]
  },
  {
   "cell_type": "code",
   "execution_count": 4,
   "metadata": {},
   "outputs": [
    {
     "data": {
      "text/html": [
       "<div>\n",
       "<style scoped>\n",
       "    .dataframe tbody tr th:only-of-type {\n",
       "        vertical-align: middle;\n",
       "    }\n",
       "\n",
       "    .dataframe tbody tr th {\n",
       "        vertical-align: top;\n",
       "    }\n",
       "\n",
       "    .dataframe thead th {\n",
       "        text-align: right;\n",
       "    }\n",
       "</style>\n",
       "<table border=\"1\" class=\"dataframe\">\n",
       "  <thead>\n",
       "    <tr style=\"text-align: right;\">\n",
       "      <th></th>\n",
       "      <th>dep</th>\n",
       "      <th>nom</th>\n",
       "      <th>cp</th>\n",
       "      <th>nb_hab_2010</th>\n",
       "      <th>nb_hab_1999</th>\n",
       "      <th>nb_hab_2012</th>\n",
       "      <th>dens</th>\n",
       "      <th>surf</th>\n",
       "      <th>long</th>\n",
       "      <th>lat</th>\n",
       "      <th>alt_min</th>\n",
       "      <th>alt_max</th>\n",
       "    </tr>\n",
       "  </thead>\n",
       "  <tbody>\n",
       "    <tr>\n",
       "      <th>0</th>\n",
       "      <td>1</td>\n",
       "      <td>Ozan</td>\n",
       "      <td>1190</td>\n",
       "      <td>618</td>\n",
       "      <td>469</td>\n",
       "      <td>500</td>\n",
       "      <td>93</td>\n",
       "      <td>6.60</td>\n",
       "      <td>4.91667</td>\n",
       "      <td>46.3833</td>\n",
       "      <td>170</td>\n",
       "      <td>205</td>\n",
       "    </tr>\n",
       "    <tr>\n",
       "      <th>1</th>\n",
       "      <td>1</td>\n",
       "      <td>Cormoranche-sur-Saône</td>\n",
       "      <td>1290</td>\n",
       "      <td>1058</td>\n",
       "      <td>903</td>\n",
       "      <td>1000</td>\n",
       "      <td>107</td>\n",
       "      <td>9.85</td>\n",
       "      <td>4.83333</td>\n",
       "      <td>46.2333</td>\n",
       "      <td>168</td>\n",
       "      <td>211</td>\n",
       "    </tr>\n",
       "    <tr>\n",
       "      <th>2</th>\n",
       "      <td>1</td>\n",
       "      <td>Plagne</td>\n",
       "      <td>1130</td>\n",
       "      <td>129</td>\n",
       "      <td>83</td>\n",
       "      <td>100</td>\n",
       "      <td>20</td>\n",
       "      <td>6.20</td>\n",
       "      <td>5.73333</td>\n",
       "      <td>46.1833</td>\n",
       "      <td>560</td>\n",
       "      <td>922</td>\n",
       "    </tr>\n",
       "    <tr>\n",
       "      <th>3</th>\n",
       "      <td>1</td>\n",
       "      <td>Tossiat</td>\n",
       "      <td>1250</td>\n",
       "      <td>1406</td>\n",
       "      <td>1111</td>\n",
       "      <td>1400</td>\n",
       "      <td>138</td>\n",
       "      <td>10.17</td>\n",
       "      <td>5.31667</td>\n",
       "      <td>46.1333</td>\n",
       "      <td>244</td>\n",
       "      <td>501</td>\n",
       "    </tr>\n",
       "  </tbody>\n",
       "</table>\n",
       "</div>"
      ],
      "text/plain": [
       "  dep                    nom    cp  nb_hab_2010  nb_hab_1999  nb_hab_2012  \\\n",
       "0   1                   Ozan  1190          618          469          500   \n",
       "1   1  Cormoranche-sur-Saône  1290         1058          903         1000   \n",
       "2   1                 Plagne  1130          129           83          100   \n",
       "3   1                Tossiat  1250         1406         1111         1400   \n",
       "\n",
       "   dens   surf     long      lat alt_min alt_max  \n",
       "0    93   6.60  4.91667  46.3833     170     205  \n",
       "1   107   9.85  4.83333  46.2333     168     211  \n",
       "2    20   6.20  5.73333  46.1833     560     922  \n",
       "3   138  10.17  5.31667  46.1333     244     501  "
      ]
     },
     "execution_count": 4,
     "metadata": {},
     "output_type": "execute_result"
    }
   ],
   "source": [
    "villes.head(4) # affiche les premières entrées de la table"
   ]
  },
  {
   "cell_type": "code",
   "execution_count": 6,
   "metadata": {},
   "outputs": [
    {
     "data": {
      "text/html": [
       "<div>\n",
       "<style scoped>\n",
       "    .dataframe tbody tr th:only-of-type {\n",
       "        vertical-align: middle;\n",
       "    }\n",
       "\n",
       "    .dataframe tbody tr th {\n",
       "        vertical-align: top;\n",
       "    }\n",
       "\n",
       "    .dataframe thead th {\n",
       "        text-align: right;\n",
       "    }\n",
       "</style>\n",
       "<table border=\"1\" class=\"dataframe\">\n",
       "  <thead>\n",
       "    <tr style=\"text-align: right;\">\n",
       "      <th></th>\n",
       "      <th>dep</th>\n",
       "      <th>nom</th>\n",
       "      <th>cp</th>\n",
       "      <th>nb_hab_2010</th>\n",
       "      <th>nb_hab_1999</th>\n",
       "      <th>nb_hab_2012</th>\n",
       "      <th>dens</th>\n",
       "      <th>surf</th>\n",
       "      <th>long</th>\n",
       "      <th>lat</th>\n",
       "      <th>alt_min</th>\n",
       "      <th>alt_max</th>\n",
       "    </tr>\n",
       "  </thead>\n",
       "  <tbody>\n",
       "    <tr>\n",
       "      <th>25774</th>\n",
       "      <td>63</td>\n",
       "      <td>Rentières</td>\n",
       "      <td>63420</td>\n",
       "      <td>103</td>\n",
       "      <td>106</td>\n",
       "      <td>100</td>\n",
       "      <td>6</td>\n",
       "      <td>15.59</td>\n",
       "      <td>3.10000</td>\n",
       "      <td>45.4167</td>\n",
       "      <td>520</td>\n",
       "      <td>1095</td>\n",
       "    </tr>\n",
       "    <tr>\n",
       "      <th>25482</th>\n",
       "      <td>63</td>\n",
       "      <td>Sainte-Agathe</td>\n",
       "      <td>63120</td>\n",
       "      <td>197</td>\n",
       "      <td>207</td>\n",
       "      <td>200</td>\n",
       "      <td>10</td>\n",
       "      <td>18.31</td>\n",
       "      <td>3.61667</td>\n",
       "      <td>45.8167</td>\n",
       "      <td>439</td>\n",
       "      <td>1091</td>\n",
       "    </tr>\n",
       "    <tr>\n",
       "      <th>31324</th>\n",
       "      <td>77</td>\n",
       "      <td>Bréau</td>\n",
       "      <td>77720</td>\n",
       "      <td>351</td>\n",
       "      <td>343</td>\n",
       "      <td>400</td>\n",
       "      <td>259</td>\n",
       "      <td>1.35</td>\n",
       "      <td>2.87806</td>\n",
       "      <td>48.5617</td>\n",
       "      <td>87</td>\n",
       "      <td>113</td>\n",
       "    </tr>\n",
       "    <tr>\n",
       "      <th>33093</th>\n",
       "      <td>81</td>\n",
       "      <td>Le Margnès</td>\n",
       "      <td>81260</td>\n",
       "      <td>44</td>\n",
       "      <td>49</td>\n",
       "      <td>0</td>\n",
       "      <td>2</td>\n",
       "      <td>17.89</td>\n",
       "      <td>2.60111</td>\n",
       "      <td>43.6412</td>\n",
       "      <td>736</td>\n",
       "      <td>1070</td>\n",
       "    </tr>\n",
       "    <tr>\n",
       "      <th>35008</th>\n",
       "      <td>88</td>\n",
       "      <td>Plombières-les-Bains</td>\n",
       "      <td>88370</td>\n",
       "      <td>1824</td>\n",
       "      <td>1902</td>\n",
       "      <td>1900</td>\n",
       "      <td>67</td>\n",
       "      <td>27.20</td>\n",
       "      <td>6.48333</td>\n",
       "      <td>47.9667</td>\n",
       "      <td>335</td>\n",
       "      <td>576</td>\n",
       "    </tr>\n",
       "    <tr>\n",
       "      <th>2594</th>\n",
       "      <td>8</td>\n",
       "      <td>Flaignes-Havys</td>\n",
       "      <td>8260</td>\n",
       "      <td>114</td>\n",
       "      <td>133</td>\n",
       "      <td>100</td>\n",
       "      <td>8</td>\n",
       "      <td>13.70</td>\n",
       "      <td>4.40139</td>\n",
       "      <td>49.8187</td>\n",
       "      <td>203</td>\n",
       "      <td>298</td>\n",
       "    </tr>\n",
       "    <tr>\n",
       "      <th>27422</th>\n",
       "      <td>67</td>\n",
       "      <td>Schiltigheim</td>\n",
       "      <td>67300</td>\n",
       "      <td>30952</td>\n",
       "      <td>30824</td>\n",
       "      <td>31100</td>\n",
       "      <td>4056</td>\n",
       "      <td>7.63</td>\n",
       "      <td>7.75000</td>\n",
       "      <td>48.6000</td>\n",
       "      <td>133</td>\n",
       "      <td>152</td>\n",
       "    </tr>\n",
       "  </tbody>\n",
       "</table>\n",
       "</div>"
      ],
      "text/plain": [
       "      dep                   nom     cp  nb_hab_2010  nb_hab_1999  nb_hab_2012  \\\n",
       "25774  63             Rentières  63420          103          106          100   \n",
       "25482  63         Sainte-Agathe  63120          197          207          200   \n",
       "31324  77                 Bréau  77720          351          343          400   \n",
       "33093  81            Le Margnès  81260           44           49            0   \n",
       "35008  88  Plombières-les-Bains  88370         1824         1902         1900   \n",
       "2594    8        Flaignes-Havys   8260          114          133          100   \n",
       "27422  67          Schiltigheim  67300        30952        30824        31100   \n",
       "\n",
       "       dens   surf     long      lat alt_min alt_max  \n",
       "25774     6  15.59  3.10000  45.4167     520    1095  \n",
       "25482    10  18.31  3.61667  45.8167     439    1091  \n",
       "31324   259   1.35  2.87806  48.5617      87     113  \n",
       "33093     2  17.89  2.60111  43.6412     736    1070  \n",
       "35008    67  27.20  6.48333  47.9667     335     576  \n",
       "2594      8  13.70  4.40139  49.8187     203     298  \n",
       "27422  4056   7.63  7.75000  48.6000     133     152  "
      ]
     },
     "execution_count": 6,
     "metadata": {},
     "output_type": "execute_result"
    }
   ],
   "source": [
    "villes.sample(7) #affiche 7 enregistrements de la table pris au hasard"
   ]
  },
  {
   "cell_type": "markdown",
   "metadata": {},
   "source": [
    " affiche les dernières entrées de la table"
   ]
  },
  {
   "cell_type": "code",
   "execution_count": 8,
   "metadata": {},
   "outputs": [
    {
     "data": {
      "text/html": [
       "<div>\n",
       "<style scoped>\n",
       "    .dataframe tbody tr th:only-of-type {\n",
       "        vertical-align: middle;\n",
       "    }\n",
       "\n",
       "    .dataframe tbody tr th {\n",
       "        vertical-align: top;\n",
       "    }\n",
       "\n",
       "    .dataframe thead th {\n",
       "        text-align: right;\n",
       "    }\n",
       "</style>\n",
       "<table border=\"1\" class=\"dataframe\">\n",
       "  <thead>\n",
       "    <tr style=\"text-align: right;\">\n",
       "      <th></th>\n",
       "      <th>dep</th>\n",
       "      <th>nom</th>\n",
       "      <th>cp</th>\n",
       "      <th>nb_hab_2010</th>\n",
       "      <th>nb_hab_1999</th>\n",
       "      <th>nb_hab_2012</th>\n",
       "      <th>dens</th>\n",
       "      <th>surf</th>\n",
       "      <th>long</th>\n",
       "      <th>lat</th>\n",
       "      <th>alt_min</th>\n",
       "      <th>alt_max</th>\n",
       "    </tr>\n",
       "  </thead>\n",
       "  <tbody>\n",
       "    <tr>\n",
       "      <th>36696</th>\n",
       "      <td>976</td>\n",
       "      <td>Tsingoni</td>\n",
       "      <td>97680</td>\n",
       "      <td>10454</td>\n",
       "      <td>10454</td>\n",
       "      <td>10454</td>\n",
       "      <td>300</td>\n",
       "      <td>34.76</td>\n",
       "      <td>45.1070</td>\n",
       "      <td>-12.78970</td>\n",
       "      <td>NULL</td>\n",
       "      <td>NULL</td>\n",
       "    </tr>\n",
       "    <tr>\n",
       "      <th>36697</th>\n",
       "      <td>971</td>\n",
       "      <td>Saint-Barthélemy</td>\n",
       "      <td>97133</td>\n",
       "      <td>8938</td>\n",
       "      <td>8938</td>\n",
       "      <td>8938</td>\n",
       "      <td>372</td>\n",
       "      <td>24.00</td>\n",
       "      <td>-62.8333</td>\n",
       "      <td>17.91670</td>\n",
       "      <td>NULL</td>\n",
       "      <td>NULL</td>\n",
       "    </tr>\n",
       "    <tr>\n",
       "      <th>36698</th>\n",
       "      <td>971</td>\n",
       "      <td>Saint-Martin</td>\n",
       "      <td>97150</td>\n",
       "      <td>36979</td>\n",
       "      <td>36979</td>\n",
       "      <td>36979</td>\n",
       "      <td>695</td>\n",
       "      <td>53.20</td>\n",
       "      <td>18.0913</td>\n",
       "      <td>-63.08290</td>\n",
       "      <td>NULL</td>\n",
       "      <td>NULL</td>\n",
       "    </tr>\n",
       "    <tr>\n",
       "      <th>36699</th>\n",
       "      <td>975</td>\n",
       "      <td>Saint-Pierre-et-Miquelon</td>\n",
       "      <td>97500</td>\n",
       "      <td>6080</td>\n",
       "      <td>6080</td>\n",
       "      <td>6080</td>\n",
       "      <td>25</td>\n",
       "      <td>242.00</td>\n",
       "      <td>46.7107</td>\n",
       "      <td>1.71819</td>\n",
       "      <td>NULL</td>\n",
       "      <td>NULL</td>\n",
       "    </tr>\n",
       "  </tbody>\n",
       "</table>\n",
       "</div>"
      ],
      "text/plain": [
       "       dep                       nom     cp  nb_hab_2010  nb_hab_1999  \\\n",
       "36696  976                  Tsingoni  97680        10454        10454   \n",
       "36697  971          Saint-Barthélemy  97133         8938         8938   \n",
       "36698  971              Saint-Martin  97150        36979        36979   \n",
       "36699  975  Saint-Pierre-et-Miquelon  97500         6080         6080   \n",
       "\n",
       "       nb_hab_2012  dens    surf     long       lat alt_min alt_max  \n",
       "36696        10454   300   34.76  45.1070 -12.78970    NULL    NULL  \n",
       "36697         8938   372   24.00 -62.8333  17.91670    NULL    NULL  \n",
       "36698        36979   695   53.20  18.0913 -63.08290    NULL    NULL  \n",
       "36699         6080    25  242.00  46.7107   1.71819    NULL    NULL  "
      ]
     },
     "execution_count": 8,
     "metadata": {},
     "output_type": "execute_result"
    }
   ],
   "source": [
    "villes.tail(4) # affiche les premières entrées de la table"
   ]
  },
  {
   "cell_type": "code",
   "execution_count": 9,
   "metadata": {},
   "outputs": [
    {
     "data": {
      "text/plain": [
       "Index(['dep', 'nom', 'cp', 'nb_hab_2010', 'nb_hab_1999', 'nb_hab_2012', 'dens',\n",
       "       'surf', 'long', 'lat', 'alt_min', 'alt_max'],\n",
       "      dtype='object')"
      ]
     },
     "execution_count": 9,
     "metadata": {},
     "output_type": "execute_result"
    }
   ],
   "source": [
    "villes.columns #retourne la liste des champs"
   ]
  },
  {
   "cell_type": "code",
   "execution_count": 10,
   "metadata": {},
   "outputs": [
    {
     "data": {
      "text/plain": [
       "dep             object\n",
       "nom             object\n",
       "cp              object\n",
       "nb_hab_2010      int64\n",
       "nb_hab_1999      int64\n",
       "nb_hab_2012      int64\n",
       "dens             int64\n",
       "surf           float64\n",
       "long           float64\n",
       "lat            float64\n",
       "alt_min         object\n",
       "alt_max         object\n",
       "dtype: object"
      ]
     },
     "execution_count": 10,
     "metadata": {},
     "output_type": "execute_result"
    }
   ],
   "source": [
    " villes.dtypes #affiche la liste des champs avec, à chaque fois, le type de données correspondant"
   ]
  },
  {
   "cell_type": "markdown",
   "metadata": {},
   "source": [
    "**Remarque :**\n",
    "\n",
    "On remarque en particulier que pandas a reconnu que les champs latitude, longitude et nombre d'habitants correspondent à des données numériques, et le traîtent comme tels.\n",
    "\n",
    "On peut aussi avoir des données statistiques."
   ]
  },
  {
   "cell_type": "code",
   "execution_count": 11,
   "metadata": {},
   "outputs": [
    {
     "data": {
      "text/html": [
       "<div>\n",
       "<style scoped>\n",
       "    .dataframe tbody tr th:only-of-type {\n",
       "        vertical-align: middle;\n",
       "    }\n",
       "\n",
       "    .dataframe tbody tr th {\n",
       "        vertical-align: top;\n",
       "    }\n",
       "\n",
       "    .dataframe thead th {\n",
       "        text-align: right;\n",
       "    }\n",
       "</style>\n",
       "<table border=\"1\" class=\"dataframe\">\n",
       "  <thead>\n",
       "    <tr style=\"text-align: right;\">\n",
       "      <th></th>\n",
       "      <th>nb_hab_2010</th>\n",
       "      <th>nb_hab_1999</th>\n",
       "      <th>nb_hab_2012</th>\n",
       "      <th>dens</th>\n",
       "      <th>surf</th>\n",
       "      <th>long</th>\n",
       "      <th>lat</th>\n",
       "    </tr>\n",
       "  </thead>\n",
       "  <tbody>\n",
       "    <tr>\n",
       "      <th>count</th>\n",
       "      <td>3.670000e+04</td>\n",
       "      <td>3.670000e+04</td>\n",
       "      <td>3.670000e+04</td>\n",
       "      <td>36700.000000</td>\n",
       "      <td>36700.000000</td>\n",
       "      <td>36700.000000</td>\n",
       "      <td>36700.000000</td>\n",
       "    </tr>\n",
       "    <tr>\n",
       "      <th>mean</th>\n",
       "      <td>1.768011e+03</td>\n",
       "      <td>1.644065e+03</td>\n",
       "      <td>1.751080e+03</td>\n",
       "      <td>154.996049</td>\n",
       "      <td>17.257375</td>\n",
       "      <td>2.786424</td>\n",
       "      <td>46.691117</td>\n",
       "    </tr>\n",
       "    <tr>\n",
       "      <th>std</th>\n",
       "      <td>1.475622e+04</td>\n",
       "      <td>1.397527e+04</td>\n",
       "      <td>1.460775e+04</td>\n",
       "      <td>704.510109</td>\n",
       "      <td>143.746399</td>\n",
       "      <td>2.966138</td>\n",
       "      <td>5.751918</td>\n",
       "    </tr>\n",
       "    <tr>\n",
       "      <th>min</th>\n",
       "      <td>0.000000e+00</td>\n",
       "      <td>0.000000e+00</td>\n",
       "      <td>0.000000e+00</td>\n",
       "      <td>0.000000</td>\n",
       "      <td>0.040000</td>\n",
       "      <td>-62.833300</td>\n",
       "      <td>-63.082900</td>\n",
       "    </tr>\n",
       "    <tr>\n",
       "      <th>25%</th>\n",
       "      <td>1.940000e+02</td>\n",
       "      <td>1.760000e+02</td>\n",
       "      <td>2.000000e+02</td>\n",
       "      <td>18.000000</td>\n",
       "      <td>6.400000</td>\n",
       "      <td>0.700000</td>\n",
       "      <td>45.150000</td>\n",
       "    </tr>\n",
       "    <tr>\n",
       "      <th>50%</th>\n",
       "      <td>4.300000e+02</td>\n",
       "      <td>3.810000e+02</td>\n",
       "      <td>4.000000e+02</td>\n",
       "      <td>39.000000</td>\n",
       "      <td>10.755000</td>\n",
       "      <td>2.650000</td>\n",
       "      <td>47.383300</td>\n",
       "    </tr>\n",
       "    <tr>\n",
       "      <th>75%</th>\n",
       "      <td>1.061000e+03</td>\n",
       "      <td>9.370000e+02</td>\n",
       "      <td>1.000000e+03</td>\n",
       "      <td>91.000000</td>\n",
       "      <td>18.370000</td>\n",
       "      <td>4.883330</td>\n",
       "      <td>48.833300</td>\n",
       "    </tr>\n",
       "    <tr>\n",
       "      <th>max</th>\n",
       "      <td>2.243833e+06</td>\n",
       "      <td>2.125851e+06</td>\n",
       "      <td>2.211000e+06</td>\n",
       "      <td>26660.000000</td>\n",
       "      <td>18360.000000</td>\n",
       "      <td>49.443600</td>\n",
       "      <td>55.697200</td>\n",
       "    </tr>\n",
       "  </tbody>\n",
       "</table>\n",
       "</div>"
      ],
      "text/plain": [
       "        nb_hab_2010   nb_hab_1999   nb_hab_2012          dens          surf  \\\n",
       "count  3.670000e+04  3.670000e+04  3.670000e+04  36700.000000  36700.000000   \n",
       "mean   1.768011e+03  1.644065e+03  1.751080e+03    154.996049     17.257375   \n",
       "std    1.475622e+04  1.397527e+04  1.460775e+04    704.510109    143.746399   \n",
       "min    0.000000e+00  0.000000e+00  0.000000e+00      0.000000      0.040000   \n",
       "25%    1.940000e+02  1.760000e+02  2.000000e+02     18.000000      6.400000   \n",
       "50%    4.300000e+02  3.810000e+02  4.000000e+02     39.000000     10.755000   \n",
       "75%    1.061000e+03  9.370000e+02  1.000000e+03     91.000000     18.370000   \n",
       "max    2.243833e+06  2.125851e+06  2.211000e+06  26660.000000  18360.000000   \n",
       "\n",
       "               long           lat  \n",
       "count  36700.000000  36700.000000  \n",
       "mean       2.786424     46.691117  \n",
       "std        2.966138      5.751918  \n",
       "min      -62.833300    -63.082900  \n",
       "25%        0.700000     45.150000  \n",
       "50%        2.650000     47.383300  \n",
       "75%        4.883330     48.833300  \n",
       "max       49.443600     55.697200  "
      ]
     },
     "execution_count": 11,
     "metadata": {},
     "output_type": "execute_result"
    }
   ],
   "source": [
    "villes.describe()\n"
   ]
  },
  {
   "cell_type": "markdown",
   "metadata": {},
   "source": [
    "**Remarque :**\n",
    "\n",
    "Les statistiques correspondent à des séries numériques.\n",
    "\n",
    "\n",
    "**Notation :**\n",
    "\n",
    "* std : écart-type\n",
    "* 25% : premier quartile\n",
    "* 50% : médiane\n",
    "* 75% : troisième quartile\n",
    "\n",
    "\n",
    "Enfin, on peut facilement ne conserver que les champs qui nous intéressent. Par exemple, si l’on ne veut que les noms des villes et leurs coordonnées, on utilise :\n"
   ]
  },
  {
   "cell_type": "code",
   "execution_count": 12,
   "metadata": {},
   "outputs": [
    {
     "data": {
      "text/html": [
       "<div>\n",
       "<style scoped>\n",
       "    .dataframe tbody tr th:only-of-type {\n",
       "        vertical-align: middle;\n",
       "    }\n",
       "\n",
       "    .dataframe tbody tr th {\n",
       "        vertical-align: top;\n",
       "    }\n",
       "\n",
       "    .dataframe thead th {\n",
       "        text-align: right;\n",
       "    }\n",
       "</style>\n",
       "<table border=\"1\" class=\"dataframe\">\n",
       "  <thead>\n",
       "    <tr style=\"text-align: right;\">\n",
       "      <th></th>\n",
       "      <th>nom</th>\n",
       "      <th>long</th>\n",
       "      <th>lat</th>\n",
       "    </tr>\n",
       "  </thead>\n",
       "  <tbody>\n",
       "    <tr>\n",
       "      <th>0</th>\n",
       "      <td>Ozan</td>\n",
       "      <td>4.91667</td>\n",
       "      <td>46.38330</td>\n",
       "    </tr>\n",
       "    <tr>\n",
       "      <th>1</th>\n",
       "      <td>Cormoranche-sur-Saône</td>\n",
       "      <td>4.83333</td>\n",
       "      <td>46.23330</td>\n",
       "    </tr>\n",
       "    <tr>\n",
       "      <th>2</th>\n",
       "      <td>Plagne</td>\n",
       "      <td>5.73333</td>\n",
       "      <td>46.18330</td>\n",
       "    </tr>\n",
       "    <tr>\n",
       "      <th>3</th>\n",
       "      <td>Tossiat</td>\n",
       "      <td>5.31667</td>\n",
       "      <td>46.13330</td>\n",
       "    </tr>\n",
       "    <tr>\n",
       "      <th>4</th>\n",
       "      <td>Pouillat</td>\n",
       "      <td>5.43333</td>\n",
       "      <td>46.33330</td>\n",
       "    </tr>\n",
       "    <tr>\n",
       "      <th>...</th>\n",
       "      <td>...</td>\n",
       "      <td>...</td>\n",
       "      <td>...</td>\n",
       "    </tr>\n",
       "    <tr>\n",
       "      <th>36695</th>\n",
       "      <td>Sada</td>\n",
       "      <td>45.10470</td>\n",
       "      <td>-12.84860</td>\n",
       "    </tr>\n",
       "    <tr>\n",
       "      <th>36696</th>\n",
       "      <td>Tsingoni</td>\n",
       "      <td>45.10700</td>\n",
       "      <td>-12.78970</td>\n",
       "    </tr>\n",
       "    <tr>\n",
       "      <th>36697</th>\n",
       "      <td>Saint-Barthélemy</td>\n",
       "      <td>-62.83330</td>\n",
       "      <td>17.91670</td>\n",
       "    </tr>\n",
       "    <tr>\n",
       "      <th>36698</th>\n",
       "      <td>Saint-Martin</td>\n",
       "      <td>18.09130</td>\n",
       "      <td>-63.08290</td>\n",
       "    </tr>\n",
       "    <tr>\n",
       "      <th>36699</th>\n",
       "      <td>Saint-Pierre-et-Miquelon</td>\n",
       "      <td>46.71070</td>\n",
       "      <td>1.71819</td>\n",
       "    </tr>\n",
       "  </tbody>\n",
       "</table>\n",
       "<p>36700 rows × 3 columns</p>\n",
       "</div>"
      ],
      "text/plain": [
       "                            nom      long       lat\n",
       "0                          Ozan   4.91667  46.38330\n",
       "1         Cormoranche-sur-Saône   4.83333  46.23330\n",
       "2                        Plagne   5.73333  46.18330\n",
       "3                       Tossiat   5.31667  46.13330\n",
       "4                      Pouillat   5.43333  46.33330\n",
       "...                         ...       ...       ...\n",
       "36695                      Sada  45.10470 -12.84860\n",
       "36696                  Tsingoni  45.10700 -12.78970\n",
       "36697          Saint-Barthélemy -62.83330  17.91670\n",
       "36698              Saint-Martin  18.09130 -63.08290\n",
       "36699  Saint-Pierre-et-Miquelon  46.71070   1.71819\n",
       "\n",
       "[36700 rows x 3 columns]"
      ]
     },
     "execution_count": 12,
     "metadata": {},
     "output_type": "execute_result"
    }
   ],
   "source": [
    "villes[['nom', 'long', 'lat']]\n"
   ]
  },
  {
   "cell_type": "markdown",
   "metadata": {},
   "source": [
    "**Exercice :**\n",
    "\n",
    "Afficher les statistiques des supericies des villes uniquement :\n"
   ]
  },
  {
   "cell_type": "code",
   "execution_count": null,
   "metadata": {},
   "outputs": [],
   "source": []
  },
  {
   "cell_type": "markdown",
   "metadata": {},
   "source": [
    "**Dataframes et series**\n",
    "\n",
    "Les **tables** lues dans les **fichiers csv** sont stockés par pandas sous forme de **dataframes**. On peut les voir comme un tableau de p-uplets nommés. \n",
    "\n",
    "**Exemple :** \n",
    "\n",
    "L’enregistrement (objet, p-uplet) numéro 4 s’obtient en utilisant la commande **loc** :\n"
   ]
  },
  {
   "cell_type": "code",
   "execution_count": null,
   "metadata": {},
   "outputs": [],
   "source": [
    "villes.loc[4]"
   ]
  },
  {
   "cell_type": "markdown",
   "metadata": {},
   "source": [
    "L'affichage de plusieurs enregistrements  s’obtient en exécutant :\n"
   ]
  },
  {
   "cell_type": "code",
   "execution_count": null,
   "metadata": {},
   "outputs": [],
   "source": [
    "villes.loc[[4, 10]]"
   ]
  },
  {
   "cell_type": "markdown",
   "metadata": {},
   "source": [
    "**Remarques**\n",
    "\n",
    "Les données précédentes ne sont pas du même type."
   ]
  },
  {
   "cell_type": "code",
   "execution_count": null,
   "metadata": {},
   "outputs": [],
   "source": [
    "type(villes.loc[4]), type(villes.loc[[4, 10]])\n"
   ]
  },
  {
   "cell_type": "markdown",
   "metadata": {},
   "source": [
    "L'affichage de la valeur de l'attribut nom s’obtient comme pour un dictionnaire :\n"
   ]
  },
  {
   "cell_type": "code",
   "execution_count": null,
   "metadata": {},
   "outputs": [],
   "source": [
    "villes.loc[4]['nom']"
   ]
  },
  {
   "cell_type": "markdown",
   "metadata": {},
   "source": [
    "**Une série** est ce que l’on obtient à partir d’un dataframe en ne sélectionnant qu’un **seul champ**.\n"
   ]
  },
  {
   "cell_type": "code",
   "execution_count": null,
   "metadata": {},
   "outputs": [],
   "source": [
    " villes['nom']"
   ]
  },
  {
   "cell_type": "code",
   "execution_count": null,
   "metadata": {},
   "outputs": [],
   "source": [
    "type(villes['nom'])"
   ]
  },
  {
   "cell_type": "markdown",
   "metadata": {},
   "source": [
    "Lors de la **sélection d’un unique champ**, pandas permet d’utiliser une syntaxe légère en n’écrivant que **villes.nom** plutôt que **villes['nom']**.\n",
    "\n",
    "Il convient, pour finir, de différentier :\n",
    "\n",
    "- la serie villes['nom'] (ou ville.name, donc) et\n",
    "- le dataframe à un seul champ villes[['nom']].\n"
   ]
  },
  {
   "cell_type": "code",
   "execution_count": null,
   "metadata": {},
   "outputs": [],
   "source": [
    "villes.nom"
   ]
  },
  {
   "cell_type": "code",
   "execution_count": null,
   "metadata": {},
   "outputs": [],
   "source": [
    "villes[['nom']]"
   ]
  },
  {
   "cell_type": "code",
   "execution_count": null,
   "metadata": {},
   "outputs": [],
   "source": [
    "villes[['nom', 'dep']]"
   ]
  },
  {
   "cell_type": "markdown",
   "metadata": {},
   "source": [
    "**Exercice :**\n",
    "    \n",
    "Afficher la densité de l'enregistrement 100."
   ]
  },
  {
   "cell_type": "code",
   "execution_count": null,
   "metadata": {},
   "outputs": [],
   "source": []
  },
  {
   "cell_type": "markdown",
   "metadata": {},
   "source": [
    "**Exercice :**\n",
    "    \n",
    "Afficher le nom et la densité des enregistrements 100 et 101."
   ]
  },
  {
   "cell_type": "code",
   "execution_count": null,
   "metadata": {},
   "outputs": [],
   "source": []
  },
  {
   "cell_type": "markdown",
   "metadata": {},
   "source": [
    "## 2. Interrogations simples\n",
    "\n",
    "Nous allons afficher les enregsitrements qui correspondent au département des Landes.\n"
   ]
  },
  {
   "cell_type": "code",
   "execution_count": null,
   "metadata": {},
   "outputs": [],
   "source": [
    "villes[villes.dep == '40']"
   ]
  },
  {
   "cell_type": "markdown",
   "metadata": {},
   "source": [
    "**Exercice :**\n",
    "\n",
    "Afficher les villes qui au moins 200 000 habitants en 2012."
   ]
  },
  {
   "cell_type": "code",
   "execution_count": null,
   "metadata": {},
   "outputs": [],
   "source": []
  },
  {
   "cell_type": "markdown",
   "metadata": {},
   "source": [
    "**Exercice :**\n",
    "\n",
    "Compter le nombre de villes qui ont au moins 200 000 habitants en 2012."
   ]
  },
  {
   "cell_type": "code",
   "execution_count": null,
   "metadata": {},
   "outputs": [],
   "source": []
  },
  {
   "cell_type": "markdown",
   "metadata": {},
   "source": [
    "## 3. Tris\n",
    "\n",
    "Les méthodes **nlargerst** et **nsmallest** permettent de déterminer **les plus grands** et **plus petits éléments** selon un critère donné. \n",
    "\n",
    "Ainsi, pour obtenir les villes les plus grandes en superficie et celles les moins peuplées en 2012, on peut écrire :\n"
   ]
  },
  {
   "cell_type": "code",
   "execution_count": null,
   "metadata": {},
   "outputs": [],
   "source": [
    "villes.nlargest(5, 'surf')"
   ]
  },
  {
   "cell_type": "code",
   "execution_count": null,
   "metadata": {},
   "outputs": [],
   "source": [
    "villes.nsmallest(4, 'nb_hab_2012')"
   ]
  },
  {
   "cell_type": "markdown",
   "metadata": {},
   "source": [
    "**Exercice :**\n",
    "\n",
    "Afficher les 6 villes dont la densité est la plus élevée en 1999."
   ]
  },
  {
   "cell_type": "code",
   "execution_count": null,
   "metadata": {},
   "outputs": [],
   "source": []
  },
  {
   "cell_type": "markdown",
   "metadata": {},
   "source": [
    "Le **tri d’un dataframe** s’effectue à l’aide de la méthode **sort_values**, comme par exemple :\n"
   ]
  },
  {
   "cell_type": "code",
   "execution_count": null,
   "metadata": {},
   "outputs": [],
   "source": [
    "villes.sort_values(by='surf')\n"
   ]
  },
  {
   "cell_type": "markdown",
   "metadata": {},
   "source": [
    "On peut trier selon **plusieurs critères**, en spécifiant éventuellement les monotonies. \n",
    "\n",
    "**Exemple :**\n",
    "\n",
    "* on construit un dataframe avec les villages qui ont au plus 500 habiatnts en 2012;\n",
    "* affichage par ordre décroissant du nombre d'habitants en 2012;\n",
    "* affichage par ordre croissant de surperficie.\n",
    "* on sélectionne les champs à afficher : nom, nb_hab_2012, surf\n"
   ]
  },
  {
   "cell_type": "code",
   "execution_count": null,
   "metadata": {},
   "outputs": [],
   "source": [
    "villages = villes[villes.nb_hab_2012 <= 500]\n",
    "villages.sort_values(by=['nb_hab_2012', 'surf'], ascending=[False, True])[['nom', 'nb_hab_2012', 'surf']]"
   ]
  },
  {
   "cell_type": "markdown",
   "metadata": {},
   "source": [
    "**Exercice :**\n",
    "\n",
    "Sélectionner les villes qui ont au moins 600 habitants en 2012.\n",
    "\n",
    "Les critères d'affichage :\n",
    "\n",
    "* habitants en 2012 par ordre croissant;\n",
    "* superficie par ordre croissant.\n",
    "\n",
    "Les champs affichés seront les suivants :\n",
    "\n",
    "* le numéro du département;\n",
    "* le nom de la ville;\n",
    "* le nombre d'habitants;\n",
    "* la superficie.\n",
    "   \n"
   ]
  },
  {
   "cell_type": "code",
   "execution_count": null,
   "metadata": {},
   "outputs": [],
   "source": [
    "\n",
    "\n"
   ]
  },
  {
   "cell_type": "markdown",
   "metadata": {},
   "source": [
    "## 3. Manipulation de données\n",
    "\n",
    "Après ce survol des méthodes de base pour extraire et ordonner les données contenue dans une table, nous allons pour finir voir\n",
    "quelques méthodes de manipulation de tables.\n",
    "\n",
    "## 3.1. Création d’un nouveau champ\n",
    "\n",
    "Il est très facile de créer de nouveaux champs à partir d’anciens. \n",
    "\n",
    "Par exemple, pour calculer l'évolution de la population, il suffit d’exécuter :\n"
   ]
  },
  {
   "cell_type": "code",
   "execution_count": null,
   "metadata": {},
   "outputs": [],
   "source": [
    "villes['evolution_2010'] =  villes.nb_hab_2010 - villes.nb_hab_1999"
   ]
  },
  {
   "cell_type": "markdown",
   "metadata": {},
   "source": [
    "On affiche le résultat avec la commande suivante :"
   ]
  },
  {
   "cell_type": "code",
   "execution_count": null,
   "metadata": {},
   "outputs": [],
   "source": [
    "villes[['nom', 'nb_hab_1999', 'nb_hab_2010', 'nb_hab_2012', 'evolution_2010']]"
   ]
  },
  {
   "cell_type": "markdown",
   "metadata": {},
   "source": [
    "Les séries peuvent être utilisées avec le **module numpy**. \n",
    "Ainsi, on peut réaliser une carte des villes utilisant la [projection de Mercator](https://fr.wikipedia.org/wiki/Projection_de_Mercator) en effectuant :\n"
   ]
  },
  {
   "cell_type": "code",
   "execution_count": null,
   "metadata": {},
   "outputs": [],
   "source": [
    "import numpy\n",
    "villes['projection_y'] = numpy.arcsinh(numpy.tan(villes.lat * numpy.pi / 180))\n",
    "villes.plot.scatter(x='long', y='projection_y')\n"
   ]
  },
  {
   "cell_type": "markdown",
   "metadata": {},
   "source": [
    "## 3.2. Fusion de tables\n",
    "\n",
    "Nous allons fusionner les deux tables ci-dessous :\n",
    "\n",
    "**TableNotes** \n",
    "\n",
    "| Nom   | Anglais | NSI  | Math |\n",
    "|:-:    |:-:      |:-:   |:-:   |\n",
    "| Paul  | 10      | 15   | 10   |\n",
    "| Marie | 15      | 12   | 18   |\n",
    "| Alice | 11      | 15   | 18   |\n",
    "\n",
    "\n",
    "**TableInformations**\n",
    "\n",
    "| NomEleve | Age     | Mail          |\n",
    "|:-:    |:-:      |:-:            |\n",
    "| Paul  | 17      | paul@ici.net  |\n",
    "| Marie | 15      | marie@ici.net |\n",
    "| Alice | 15      | alice@ici.net |\n",
    "\n",
    "\n",
    "Pour que le résultat de la fusion soit correct, il faut vérifier deux conditions :\n",
    "\n",
    "* chaque table doit avoir une colonne qui permet de repérer quaque ligne de manière unique (clé primaire dans le vocabulaire des bases de données);\n",
    "* les deux tables doivent avoir une colonne avec des informations communes et de même nature.\n",
    "\n",
    "La fusion se fait à l’aide de la fonction merge :\n"
   ]
  },
  {
   "cell_type": "code",
   "execution_count": null,
   "metadata": {},
   "outputs": [],
   "source": [
    "elevesNotes = pandas.read_csv(\"eleves_notes.csv\", delimiter=\",\", keep_default_na=False)\n",
    "elevesNotes.head() # affiche les premières entrées de la table"
   ]
  },
  {
   "cell_type": "code",
   "execution_count": null,
   "metadata": {},
   "outputs": [],
   "source": [
    "elevesInformations = pandas.read_csv(\"eleves_informations.csv\", delimiter=\";\", keep_default_na=False)\n",
    "elevesInformations.head() # affiche les premières entrées de la table"
   ]
  },
  {
   "cell_type": "code",
   "execution_count": null,
   "metadata": {},
   "outputs": [],
   "source": [
    "nouvelleTable = pandas.merge(elevesNotes, elevesInformations, left_on='Nom', right_on='NomEleve')"
   ]
  },
  {
   "cell_type": "code",
   "execution_count": null,
   "metadata": {},
   "outputs": [],
   "source": [
    ">>> nouvelleTable"
   ]
  },
  {
   "cell_type": "markdown",
   "metadata": {},
   "source": [
    "### (pour aller plus loin) Modifer les noms des colonnes.\n",
    "\n",
    "Il est possible de modifier le nom des colonnes soit pour éviter les conflits de noms, soit pour améliorer la lisibilité.\n",
    "\n",
    "**Exemple de renommage**"
   ]
  },
  {
   "cell_type": "code",
   "execution_count": null,
   "metadata": {},
   "outputs": [],
   "source": [
    "elevesInformations\n"
   ]
  },
  {
   "cell_type": "code",
   "execution_count": null,
   "metadata": {},
   "outputs": [],
   "source": [
    "elevesInformations[['Age', 'Mail']].rename(columns={'Age': 'Âge', 'Mail': 'E-mail'})"
   ]
  },
  {
   "cell_type": "markdown",
   "metadata": {},
   "source": [
    "**Exemple : renommage et fusion des tables.**"
   ]
  },
  {
   "cell_type": "code",
   "execution_count": null,
   "metadata": {},
   "outputs": [],
   "source": [
    "elevesInformations = pandas.read_csv(\"eleves_informations.csv\", delimiter=\";\", keep_default_na=False)\n",
    "\n",
    "\n",
    "nouvelleTable = pandas.merge(\n",
    "    elevesNotes[['Nom', 'NSI', 'Anglais', 'Math']],\n",
    "    elevesInformations[['NomEleve', 'Age', 'Mail']].rename(\n",
    "         columns={'Mail' : 'E-mail'}),\n",
    "    left_on='Nom', right_on='NomEleve')"
   ]
  },
  {
   "cell_type": "code",
   "execution_count": null,
   "metadata": {},
   "outputs": [],
   "source": [
    ">>> nouvelleTable"
   ]
  },
  {
   "cell_type": "markdown",
   "metadata": {},
   "source": [
    "**Exercice :**\n",
    "\n",
    "Dans cette nouvelle table, afficher les élèves qui 15 ans et moins."
   ]
  },
  {
   "cell_type": "code",
   "execution_count": null,
   "metadata": {},
   "outputs": [],
   "source": []
  },
  {
   "cell_type": "markdown",
   "metadata": {},
   "source": [
    "**Exercice :**\n",
    "\n",
    "Afficher uniquement les colonnes Nom, Age et E-mail des élèves de 15 ans et moins."
   ]
  },
  {
   "cell_type": "code",
   "execution_count": null,
   "metadata": {},
   "outputs": [],
   "source": []
  },
  {
   "cell_type": "markdown",
   "metadata": {},
   "source": [
    "## 4. Conclusion\n",
    "\n",
    "La bibliothèque pandas que nous avons présentée dans ce document est un outil intéressant pour s’initier à la manipulation de\n",
    "données. En particulier, le rôle central qu’y jouent les dataframes permet de manipuler les enregistrements quasiment comme s’il\n",
    "s’agissait de p-uplet nommés.\n",
    "Cette approche permet aussi de préparer la transition avec le programme de Terminale et le chapitre sur les bases de données.\n",
    "En effet, bien que ce thème apporte des problématiques spécifiques, et bien que les syntaxes diffèrent grandement entre des\n",
    "instructions pandas et une requête SQL, il existe de nombreux points communs entre les deux approches concernant la façon\n",
    "dont les données sont représentées et peuvent être exploitées et manipulées.\n"
   ]
  },
  {
   "cell_type": "code",
   "execution_count": null,
   "metadata": {},
   "outputs": [],
   "source": []
  }
 ],
 "metadata": {
  "kernelspec": {
   "display_name": "Python 3",
   "language": "python",
   "name": "python3"
  },
  "language_info": {
   "codemirror_mode": {
    "name": "ipython",
    "version": 3
   },
   "file_extension": ".py",
   "mimetype": "text/x-python",
   "name": "python",
   "nbconvert_exporter": "python",
   "pygments_lexer": "ipython3",
   "version": "3.7.6"
  }
 },
 "nbformat": 4,
 "nbformat_minor": 4
}
