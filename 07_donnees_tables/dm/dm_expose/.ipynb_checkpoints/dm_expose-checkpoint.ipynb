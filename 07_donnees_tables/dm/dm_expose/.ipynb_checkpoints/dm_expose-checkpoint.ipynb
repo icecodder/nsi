{
 "cells": [
  {
   "cell_type": "markdown",
   "metadata": {
    "pycharm": {
     "name": "#%% md\n"
    }
   },
   "source": [
    "# DM - Pandas/Données en Table | Exposé\n",
    "## Le déploiement de la 5G en France\n",
    "\n",
    "Sources :\n",
    "- [Rapport de l'Arcep de décembre 2021 (Autorité de régulation des communications électroniques, des postes et de la distribution de la presse)](https://www.arcep.fr/cartes-et-donnees/nos-cartes/deploiement-5g/observatoire-du-deploiement-5g-decembre-2021.html)\n",
    "- [Les données en Open Data - Mon Réseau Mobile par l'Arcep](https://www.data.gouv.fr/fr/datasets/mon-reseau-mobile/)\n",
    "- [Liste des antennes 5G en France au 28 octobre 2021](https://public.opendatasoft.com/explore/dataset/buildingref-france-arcep-mobile-site-5g/information/)"
   ]
  },
  {
   "cell_type": "markdown",
   "metadata": {
    "pycharm": {
     "name": "#%% md\n"
    }
   },
   "source": [
    "### I - Analyse globale des données"
   ]
  },
  {
   "cell_type": "markdown",
   "metadata": {},
   "source": [
    "Importer la liste des antennes avec la bibliothèque Pandas."
   ]
  },
  {
   "cell_type": "code",
   "execution_count": 1,
   "metadata": {
    "pycharm": {
     "name": "#%%\n"
    }
   },
   "outputs": [],
   "source": [
    "import pandas # Importer la bibliothèque Pandas\n",
    "\n",
    "# Importer le fichier CSV avec le \";\" comme séparateur\n",
    "antennes = pandas.read_csv(\"antennes-5g-france.csv\", delimiter=\";\", keep_default_na=False)"
   ]
  },
  {
   "cell_type": "markdown",
   "metadata": {},
   "source": [
    "Afficher les différentes colonnes et leurs types."
   ]
  },
  {
   "cell_type": "code",
   "execution_count": 2,
   "metadata": {
    "pycharm": {
     "name": "#%%\n"
    }
   },
   "outputs": [
    {
     "data": {
      "text/plain": [
       "Index(['id', 'id_anfr', 'frequences', 'id_operateur', 'nom_operateur',\n",
       "       'longitudes', 'latitudes', 'date_mise_en_service', 'code_postal',\n",
       "       'ville', 'code_epci', 'nom_epci', 'code_dpt', 'nom_dpt', 'nom_region'],\n",
       "      dtype='object')"
      ]
     },
     "execution_count": 2,
     "metadata": {},
     "output_type": "execute_result"
    }
   ],
   "source": [
    "antennes.columns"
   ]
  },
  {
   "cell_type": "code",
   "execution_count": 3,
   "metadata": {
    "pycharm": {
     "name": "#%%\n"
    }
   },
   "outputs": [
    {
     "data": {
      "text/plain": [
       "id                       object\n",
       "id_anfr                  object\n",
       "frequences                int64\n",
       "id_operateur              int64\n",
       "nom_operateur            object\n",
       "longitudes              float64\n",
       "latitudes               float64\n",
       "date_mise_en_service     object\n",
       "code_postal              object\n",
       "ville                    object\n",
       "code_epci                 int64\n",
       "nom_epci                 object\n",
       "code_dpt                 object\n",
       "nom_dpt                  object\n",
       "nom_region               object\n",
       "dtype: object"
      ]
     },
     "execution_count": 3,
     "metadata": {},
     "output_type": "execute_result"
    }
   ],
   "source": [
    "antennes.dtypes"
   ]
  },
  {
   "cell_type": "markdown",
   "metadata": {
    "pycharm": {
     "name": "#%% md\n"
    }
   },
   "source": [
    "Afficher le nombre d'antennes totales et pour chaque opérateur mobile"
   ]
  },
  {
   "cell_type": "code",
   "execution_count": 4,
   "metadata": {
    "pycharm": {
     "name": "#%%\n"
    }
   },
   "outputs": [
    {
     "name": "stdout",
     "output_type": "stream",
     "text": [
      "Il y a 16807 antennes 5G en France.\n",
      "Il y en a 1872 gérées par Orange.\n",
      "Il y en a 2945 gérées par Bouygues.\n",
      "Il y en a 1751 gérées par SFR.\n",
      "Il y en a 10239 gérées par Free.\n"
     ]
    }
   ],
   "source": [
    "nb_antennes_total = len(antennes.index)\n",
    "nb_antennes_orange = len(antennes[antennes[\"nom_operateur\"] == \"Orange\"].index)\n",
    "nb_antennes_bouygues = len(antennes[antennes[\"nom_operateur\"] == \"Bouygues Telecom\"].index)\n",
    "nb_antennes_sfr = len(antennes[antennes[\"nom_operateur\"] == \"SFR\"].index)\n",
    "nb_antennes_free = len(antennes[antennes[\"nom_operateur\"] == \"Free Mobile\"].index)\n",
    "\n",
    "print(f\"Il y a {nb_antennes_total} antennes 5G en France.\")\n",
    "print(f\"Il y en a {nb_antennes_orange} gérées par Orange.\")\n",
    "print(f\"Il y en a {nb_antennes_bouygues} gérées par Bouygues.\")\n",
    "print(f\"Il y en a {nb_antennes_sfr} gérées par SFR.\")\n",
    "print(f\"Il y en a {nb_antennes_free} gérées par Free.\")"
   ]
  },
  {
   "cell_type": "markdown",
   "metadata": {
    "pycharm": {
     "name": "#%% md\n"
    }
   },
   "source": [
    "Afficher la fréquence des antennes.\n"
   ]
  },
  {
   "cell_type": "code",
   "execution_count": 5,
   "metadata": {
    "pycharm": {
     "name": "#%%\n"
    }
   },
   "outputs": [
    {
     "name": "stdout",
     "output_type": "stream",
     "text": [
      "Il y a 10239 antennes 700MHz.\n",
      "Il y a 3930 antennes 2,1GHz.\n",
      "Il y a 2638 antennes 3,5GHz.\n"
     ]
    }
   ],
   "source": [
    "nb_antennes_700mhz = len(antennes[antennes[\"frequences\"] == 700].index)\n",
    "nb_antennes_2100mhz = len(antennes[antennes[\"frequences\"] == 2100].index)\n",
    "nb_antennes_3500mhz = len(antennes[antennes[\"frequences\"] == 3500].index)\n",
    "\n",
    "print(f\"Il y a {nb_antennes_700mhz} antennes 700MHz.\")\n",
    "print(f\"Il y a {nb_antennes_2100mhz} antennes 2,1GHz.\")\n",
    "print(f\"Il y a {nb_antennes_3500mhz} antennes 3,5GHz.\")\n"
   ]
  },
  {
   "cell_type": "markdown",
   "metadata": {
    "pycharm": {
     "name": "#%% md\n"
    }
   },
   "source": [
    "### II - Analyse de quelques informations pertinentes."
   ]
  },
  {
   "cell_type": "markdown",
   "metadata": {},
   "source": [
    "Connaître les antennes dans les Landes."
   ]
  },
  {
   "cell_type": "code",
   "execution_count": 6,
   "metadata": {
    "pycharm": {
     "name": "#%%\n"
    }
   },
   "outputs": [
    {
     "name": "stdout",
     "output_type": "stream",
     "text": [
      "Il y a 109 antennes dans les Landes.\n",
      "Il y a 2 antennes dans les Landes gérées par Orange.\n"
     ]
    }
   ],
   "source": [
    "antennes_landes = antennes[antennes[\"code_dpt\"] == \"40\"]\n",
    "nb_antennes_landes = len(antennes_landes.index)\n",
    "nb_antennes_landes_orange = len(antennes_landes[antennes_landes[\"nom_operateur\"] == \"Orange\"].index)\n",
    "\n",
    "print(f\"Il y a {nb_antennes_landes} antennes dans les Landes.\")\n",
    "print(f\"Il y a {nb_antennes_landes_orange} antennes dans les Landes gérées par Orange.\")"
   ]
  },
  {
   "cell_type": "markdown",
   "metadata": {},
   "source": [
    "Connaître les antennes dans le Grand Dax."
   ]
  },
  {
   "cell_type": "code",
   "execution_count": 7,
   "metadata": {
    "pycharm": {
     "name": "#%%\n"
    }
   },
   "outputs": [
    {
     "name": "stdout",
     "output_type": "stream",
     "text": [
      "Il y a 12 antennes dans le Grand Dax.\n"
     ]
    }
   ],
   "source": [
    "antennes_grand_dax = antennes_landes[antennes_landes[\"nom_epci\"] == \"CA du Grand Dax\"]\n",
    "nb_antennes_grand_dax = len(antennes_grand_dax)\n",
    "\n",
    "print(f\"Il y a {nb_antennes_grand_dax} antennes dans le Grand Dax.\")"
   ]
  },
  {
   "cell_type": "markdown",
   "metadata": {},
   "source": [
    "Connaître les antennes à Dax."
   ]
  },
  {
   "cell_type": "code",
   "execution_count": 8,
   "metadata": {
    "pycharm": {
     "name": "#%%\n"
    }
   },
   "outputs": [
    {
     "name": "stdout",
     "output_type": "stream",
     "text": [
      "Il y a 5 antennes à Dax !\n"
     ]
    }
   ],
   "source": [
    "antennes_dax = antennes_grand_dax[antennes_grand_dax[\"ville\"] == \"Dax\"]\n",
    "nb_antennes_dax = len(antennes_dax.index)\n",
    "\n",
    "print(f\"Il y a {nb_antennes_dax} antennes à Dax !\")"
   ]
  },
  {
   "cell_type": "markdown",
   "metadata": {},
   "source": [
    "Obtenir la dernière antenne mise en service."
   ]
  },
  {
   "cell_type": "code",
   "execution_count": 9,
   "metadata": {
    "pycharm": {
     "name": "#%%\n"
    }
   },
   "outputs": [
    {
     "data": {
      "text/plain": [
       "id                                                   00000041W2\n",
       "id_anfr                                               912290107\n",
       "frequences                                                 3500\n",
       "id_operateur                                              20801\n",
       "nom_operateur                                            Orange\n",
       "longitudes                                            48.610776\n",
       "latitudes                                               2.42905\n",
       "date_mise_en_service                                 2021/06/30\n",
       "code_postal                                               91340\n",
       "ville                                                    Lisses\n",
       "code_epci                                             200059228\n",
       "nom_epci                CA Grand Paris Sud Seine Essonne Sénart\n",
       "code_dpt                                                     91\n",
       "nom_dpt                                                 Essonne\n",
       "nom_region                                        Île-de-France\n",
       "Name: 12914, dtype: object"
      ]
     },
     "execution_count": 9,
     "metadata": {},
     "output_type": "execute_result"
    }
   ],
   "source": [
    "dernieres_antennes = antennes.sort_values(by=\"date_mise_en_service\", ascending=False).index\n",
    "\n",
    "derniere_antenne = antennes.loc[dernieres_antennes[0]]\n",
    "\n",
    "derniere_antenne"
   ]
  },
  {
   "cell_type": "code",
   "execution_count": 10,
   "metadata": {
    "pycharm": {
     "name": "#%%\n"
    }
   },
   "outputs": [
    {
     "name": "stdout",
     "output_type": "stream",
     "text": [
      "La dernière antenne a été mise en service le 30/06/2021.\n"
     ]
    }
   ],
   "source": [
    "from datetime import datetime\n",
    "\n",
    "date = datetime.strptime(derniere_antenne['date_mise_en_service'], '%Y/%m/%d')\n",
    "date_format = date.strftime(\"%d/%m/%Y\")\n",
    "\n",
    "print(f\"La dernière antenne a été mise en service le {date_format}.\")"
   ]
  },
  {
   "cell_type": "markdown",
   "metadata": {
    "pycharm": {
     "name": "#%% md\n"
    }
   },
   "source": [
    "# III - Graphiques\n"
   ]
  },
  {
   "cell_type": "markdown",
   "metadata": {},
   "source": [
    "Carte des antennes grâce à la [projection de Mercator](https://fr.wikipedia.org/wiki/Projection_de_Mercator)"
   ]
  },
  {
   "cell_type": "code",
   "execution_count": 11,
   "metadata": {
    "pycharm": {
     "name": "#%%\n"
    }
   },
   "outputs": [
    {
     "data": {
      "text/plain": [
       "<AxesSubplot:xlabel='latitudes', ylabel='projection_y'>"
      ]
     },
     "execution_count": 11,
     "metadata": {},
     "output_type": "execute_result"
    },
    {
     "data": {
      "image/png": "[encoded data removed]",
      "text/plain": [
       "<Figure size 432x288 with 1 Axes>"
      ]
     },
     "metadata": {
      "needs_background": "light"
     },
     "output_type": "display_data"
    }
   ],
   "source": [
    "import numpy\n",
    "\n",
    "antennes[\"projection_y\"] = numpy.arcsinh(numpy.tan(antennes.longitudes * numpy.pi / 180))\n",
    "antennes.plot.scatter(x=\"latitudes\", y=\"projection_y\")"
   ]
  },
  {
   "cell_type": "markdown",
   "metadata": {},
   "source": [
    "Carte des antennes hors Free."
   ]
  },
  {
   "cell_type": "code",
   "execution_count": 12,
   "metadata": {
    "pycharm": {
     "name": "#%%\n"
    }
   },
   "outputs": [
    {
     "data": {
      "text/plain": [
       "<AxesSubplot:xlabel='latitudes', ylabel='projection_y'>"
      ]
     },
     "execution_count": 12,
     "metadata": {},
     "output_type": "execute_result"
    },
    {
     "data": {
      "image/png": "[encoded data removed]",
      "text/plain": [
       "<Figure size 432x288 with 1 Axes>"
      ]
     },
     "metadata": {
      "needs_background": "light"
     },
     "output_type": "display_data"
    }
   ],
   "source": [
    "antennes[\"projection_y\"] = numpy.arcsinh(numpy.tan(antennes.longitudes[antennes[\"nom_operateur\"] != \"Free Mobile\"] * numpy.pi / 180))\n",
    "antennes.plot.scatter(x=\"latitudes\", y=\"projection_y\")"
   ]
  },
  {
   "cell_type": "markdown",
   "metadata": {
    "pycharm": {
     "name": "#%% md\n"
    }
   },
   "source": [
    "Répartition des antennes par opérateur selon leurs fréquences."
   ]
  },
  {
   "cell_type": "code",
   "execution_count": 13,
   "metadata": {
    "pycharm": {
     "name": "#%%\n"
    }
   },
   "outputs": [
    {
     "data": {
      "text/plain": [
       "<AxesSubplot:xlabel='nom_operateur', ylabel='frequences'>"
      ]
     },
     "execution_count": 13,
     "metadata": {},
     "output_type": "execute_result"
    },
    {
     "data": {
      "image/png": "[encoded data removed]",
      "text/plain": [
       "<Figure size 432x288 with 1 Axes>"
      ]
     },
     "metadata": {
      "needs_background": "light"
     },
     "output_type": "display_data"
    }
   ],
   "source": [
    "antennes.plot.scatter(x=\"nom_operateur\", y=\"frequences\")"
   ]
  }
 ],
 "metadata": {
  "kernelspec": {
   "display_name": "Python 3 (ipykernel)",
   "language": "python",
   "name": "python3"
  },
  "language_info": {
   "codemirror_mode": {
    "name": "ipython",
    "version": 3
   },
   "file_extension": ".py",
   "mimetype": "text/x-python",
   "name": "python",
   "nbconvert_exporter": "python",
   "pygments_lexer": "ipython3",
   "version": "3.10.2"
  }
 },
 "nbformat": 4,
 "nbformat_minor": 1
}
