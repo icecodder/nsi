{
 "cells": [
  {
   "cell_type": "markdown",
   "metadata": {},
   "source": [
    "# Cours - Traitement des données en table\n",
    "# Fich 1 : opérations sur les tables\n",
    "\n",
    "\n",
    "**Table des matières**\n",
    "\n",
    "1. Créer une table avec Python\n",
    "2. Sélectionner des lignes vérifiant un critère\n",
    "3. Sélectionner des colonnes\n",
    "4. Trier une table selon une colonne\n",
    "\n"
   ]
  },
  {
   "cell_type": "markdown",
   "metadata": {},
   "source": [
    "## 1. Créer une table avec Python\n",
    "\n",
    "En python on représente facilement une table avec une sctructure du type : liste de dictionnaires.\n",
    "\n",
    "**Exemple de table**\n",
    "\n",
    "| Nom   | Anglais | NSI  | Math |\n",
    "|:-:    |:-:      |:-:   |:-:   |\n",
    "| Paul  | 10      | 15   | 10   |\n",
    "| Marie | 15      | 12   | 18   |\n",
    "| Alice | 11      | 15   | 18   |"
   ]
  },
  {
   "cell_type": "code",
   "execution_count": null,
   "metadata": {},
   "outputs": [],
   "source": [
    "tableNotes = [{'Nom': 'Paul', 'Anglais': 10, 'NSI': 15, 'Math': 10},\n",
    "          {'Nom': 'Marie', 'Anglais': 15, 'NSI': 12, 'Math': 18},\n",
    "          {'Nom': 'Alice', 'Anglais': 11, 'NSI': 15, 'Math': 18}]"
   ]
  },
  {
   "cell_type": "code",
   "execution_count": null,
   "metadata": {},
   "outputs": [],
   "source": [
    ">>> tableNotes"
   ]
  },
  {
   "cell_type": "markdown",
   "metadata": {},
   "source": [
    "## 2. Sélectionner des lignes vérifiant un critère\n",
    "\n",
    "Nous allons créer une nouvelle table en fonction d'une collection et de critères. \n",
    "\n",
    "Dans les critères on utilisera les opérateurs <, >, <= >=,==,!=, in, not, and, or, is ..."
   ]
  },
  {
   "cell_type": "code",
   "execution_count": null,
   "metadata": {},
   "outputs": [],
   "source": [
    "\n",
    "from pprint import pprint\n",
    "\n",
    "def select(table, critere):\n",
    "    return [ligne for ligne in table if eval(critere)]\n",
    "\n",
    "\n"
   ]
  },
  {
   "cell_type": "code",
   "execution_count": null,
   "metadata": {},
   "outputs": [],
   "source": [
    "pprint(select(tableNotes, \"ligne['Math'] > 16\"))"
   ]
  },
  {
   "cell_type": "markdown",
   "metadata": {},
   "source": [
    "**Exercice**\n",
    "\n",
    "Écrire une commande pour afficher les lignes lorsque la note de NSI est égale à 15"
   ]
  },
  {
   "cell_type": "code",
   "execution_count": null,
   "metadata": {},
   "outputs": [],
   "source": [
    "pprint(select(tableNotes, \"ligne['NSI'] == 15\"))\n"
   ]
  },
  {
   "cell_type": "markdown",
   "metadata": {},
   "source": [
    "**Exercice :**\n",
    "\n",
    "Proposer une version de la fonction sans liste par compréhension."
   ]
  },
  {
   "cell_type": "code",
   "execution_count": null,
   "metadata": {},
   "outputs": [],
   "source": [
    "def select(table, critere):\n",
    "    table2 = []\n",
    "    for ligne in table:\n",
    "        if eval(critere):\n",
    "            table2.append(ligne) \n",
    "    return table2\n",
    "\n",
    "pprint(select(tableNotes, \"ligne['Math'] > 16\"))"
   ]
  },
  {
   "cell_type": "markdown",
   "metadata": {},
   "source": [
    "## 3. Sélectionner des colonnes\n",
    "\n",
    "L'opération de sélectionner plusieurs colonnes est appelée **projection**."
   ]
  },
  {
   "cell_type": "code",
   "execution_count": null,
   "metadata": {},
   "outputs": [],
   "source": [
    "def projection(table, liste_attributs):\n",
    "    return [{cle:ligne[cle] for cle in ligne if cle in liste_attributs} for ligne in table]\n",
    "\n",
    "\n",
    "pprint(projection(tableNotes, ['Nom', 'NSI']))"
   ]
  },
  {
   "cell_type": "markdown",
   "metadata": {},
   "source": [
    "**Exercice :**\n",
    "\n",
    "Proposer une version de la fonction sans liste par compréhension."
   ]
  },
  {
   "cell_type": "code",
   "execution_count": null,
   "metadata": {},
   "outputs": [],
   "source": []
  },
  {
   "cell_type": "markdown",
   "metadata": {},
   "source": [
    "## 4. Trier une table selon une colonne\n",
    "\n",
    "\n",
    "Comme une table est représentée par une liste, on utilise la fonction **sorted** pour réaliser le tri par ordres croissant ou décroissant.\n",
    "\n",
    "**Exemple :** tri par ordre décroissant.\n",
    "\n",
    "\n"
   ]
  },
  {
   "cell_type": "code",
   "execution_count": null,
   "metadata": {},
   "outputs": [],
   "source": [
    "def triColonne(table, attribut, decroit=False):\n",
    "    def critere(ligne):\n",
    "        return ligne[attribut]\n",
    "    return sorted(table, key=critere, reverse=decroit)\n",
    "\n",
    "\n",
    "pprint(triColonne(tableNotes, 'Math', True))"
   ]
  },
  {
   "cell_type": "markdown",
   "metadata": {},
   "source": [
    "**Exercice :**\n",
    "Proposer une commande pour trier les notes d'Anglais par ordre croissant."
   ]
  },
  {
   "cell_type": "code",
   "execution_count": null,
   "metadata": {},
   "outputs": [],
   "source": []
  },
  {
   "cell_type": "markdown",
   "metadata": {},
   "source": [
    "## 4. Fusion de deux tables\n",
    "\n",
    "Nous allons fusionner deux tables selon un **attribut (descripteur, champ)**. \n",
    "\n",
    "On sélectionne dans chaque table la ligne ayant la même valeur pour l'attribut choisi.\n",
    "\n",
    "**Exemples de tables :**\n",
    "\n",
    "> TableNotes \n",
    "\n",
    "| Nom   | Anglais | NSI  | Math |\n",
    "|:-:    |:-:      |:-:   |:-:   |\n",
    "| Paul  | 10      | 15   | 10   |\n",
    "| Marie | 15      | 12   | 18   |\n",
    "| Alice | 11      | 15   | 18   |\n",
    "\n",
    "\n",
    "> TableMails \n",
    "\n",
    "| Nom   | Age     | Mail          |\n",
    "|:-:    |:-:      |:-:            |\n",
    "| Paul  | 17      | paul@ici.net  |\n",
    "| Marie | 15      | marie@ici.net |\n",
    "| Alice | 15      | alice@ici.net |\n",
    "\n",
    "\n",
    "\n",
    "Pour réaliser la fusion de tables il faut réaliser une copie superficielle d'éléments.\n",
    "\n",
    "Pour cela on utilisera le **module deepcopy**.\n"
   ]
  },
  {
   "cell_type": "code",
   "execution_count": null,
   "metadata": {},
   "outputs": [],
   "source": [
    "from copy import deepcopy\n",
    "def jointure(table1, table2, cle1, cle2=None):\n",
    "    if cle2 is None:\n",
    "        cle2 = cle1\n",
    "    table3 = []\n",
    "    for ligne1 in table1:\n",
    "        for ligne2 in table2:\n",
    "            if ligne1[cle1] == ligne2[cle2]:\n",
    "                ligne3 = deepcopy(ligne1)\n",
    "                for cle in ligne2:\n",
    "                    if cle != cle2:\n",
    "                        ligne3[cle] = ligne2[cle]\n",
    "                table3.append(ligne3)\n",
    "    return table3\n",
    "\n"
   ]
  },
  {
   "cell_type": "code",
   "execution_count": null,
   "metadata": {},
   "outputs": [],
   "source": [
    "tableNotes = [{'Nom': 'Paul', 'Anglais': 10, 'NSI': 15, 'Math': 10},\n",
    "          {'Nom': 'Marie', 'Anglais': 15, 'NSI': 12, 'Math': 18},\n",
    "          {'Nom': 'Alice', 'Anglais': 11, 'NSI': 15, 'Math': 18}]\n",
    "tableMails = [{'Nom': 'Paul', 'Age': 17, 'Courriel': 'paul@ici.net'},\n",
    "          {'Nom': 'Marie', 'Age': 15, 'Courriel': 'marie@ici.net'}]\n",
    "pprint(jointure(tableNotes, tableMails, 'Nom'))"
   ]
  },
  {
   "cell_type": "markdown",
   "metadata": {},
   "source": [
    "**Exercice :**\n",
    "\n",
    "Compléter le tableau du résultat de la fusion.\n",
    "\n",
    " \n",
    "\n",
    "| Nom   | Age     | Mail      | Anglais | NSI  | Math |\n",
    "|:-:    |:-:      |:-:        |:-:      |:-:   |:-:   |\n",
    "|...    |...      |...        |...      |...   |...   |\n",
    "|...    |...      |...        |...      |...   |...   |"
   ]
  },
  {
   "cell_type": "code",
   "execution_count": null,
   "metadata": {},
   "outputs": [],
   "source": []
  },
  {
   "cell_type": "markdown",
   "metadata": {},
   "source": [
    "Certains sites proposent des données ouvertes (open source). Les tables contiennent une grande quantité d'information. Un format simple pour l'échange de tables est le format CSV.\n",
    "\n",
    "Dans la fiche suivante nous allons apprendre à manipuler les données d'un fichier CSV avec le langage Python."
   ]
  },
  {
   "cell_type": "code",
   "execution_count": null,
   "metadata": {},
   "outputs": [],
   "source": []
  }
 ],
 "metadata": {
  "kernelspec": {
   "display_name": "Python 3",
   "language": "python",
   "name": "python3"
  },
  "language_info": {
   "codemirror_mode": {
    "name": "ipython",
    "version": 3
   },
   "file_extension": ".py",
   "mimetype": "text/x-python",
   "name": "python",
   "nbconvert_exporter": "python",
   "pygments_lexer": "ipython3",
   "version": "3.7.6"
  }
 },
 "nbformat": 4,
 "nbformat_minor": 4
}
